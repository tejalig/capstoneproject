{
 "cells": [
  {
   "cell_type": "markdown",
   "metadata": {},
   "source": [
    "# PART 1"
   ]
  },
  {
   "cell_type": "markdown",
   "metadata": {},
   "source": [
    "## Import required packages"
   ]
  },
  {
   "cell_type": "code",
   "execution_count": 1,
   "metadata": {},
   "outputs": [],
   "source": [
    "import pandas as pd\n",
    "import numpy as np\n",
    "import matplotlib.pyplot as plt"
   ]
  },
  {
   "cell_type": "markdown",
   "metadata": {},
   "source": [
    "## Storing the url and reading data from the url"
   ]
  },
  {
   "cell_type": "code",
   "execution_count": 2,
   "metadata": {},
   "outputs": [],
   "source": [
    "html = 'https://en.wikipedia.org/wiki/List_of_postal_codes_of_Canada:_M'\n",
    "table = pd.read_html(html)"
   ]
  },
  {
   "cell_type": "markdown",
   "metadata": {},
   "source": [
    "## Just checking the type of the data"
   ]
  },
  {
   "cell_type": "code",
   "execution_count": 3,
   "metadata": {},
   "outputs": [
    {
     "data": {
      "text/plain": [
       "pandas.core.frame.DataFrame"
      ]
     },
     "execution_count": 3,
     "metadata": {},
     "output_type": "execute_result"
    }
   ],
   "source": [
    "type(table[0])"
   ]
  },
  {
   "cell_type": "markdown",
   "metadata": {},
   "source": [
    "## Copying the contents of the table to variable data"
   ]
  },
  {
   "cell_type": "code",
   "execution_count": 4,
   "metadata": {},
   "outputs": [],
   "source": [
    "data = table[0].copy()"
   ]
  },
  {
   "cell_type": "markdown",
   "metadata": {},
   "source": [
    "## Original table from wikipedia"
   ]
  },
  {
   "cell_type": "code",
   "execution_count": 5,
   "metadata": {},
   "outputs": [
    {
     "data": {
      "text/html": [
       "<div>\n",
       "<style scoped>\n",
       "    .dataframe tbody tr th:only-of-type {\n",
       "        vertical-align: middle;\n",
       "    }\n",
       "\n",
       "    .dataframe tbody tr th {\n",
       "        vertical-align: top;\n",
       "    }\n",
       "\n",
       "    .dataframe thead th {\n",
       "        text-align: right;\n",
       "    }\n",
       "</style>\n",
       "<table border=\"1\" class=\"dataframe\">\n",
       "  <thead>\n",
       "    <tr style=\"text-align: right;\">\n",
       "      <th></th>\n",
       "      <th>Postal Code</th>\n",
       "      <th>Borough</th>\n",
       "      <th>Neighbourhood</th>\n",
       "    </tr>\n",
       "  </thead>\n",
       "  <tbody>\n",
       "    <tr>\n",
       "      <th>0</th>\n",
       "      <td>M1A</td>\n",
       "      <td>Not assigned</td>\n",
       "      <td>Not assigned</td>\n",
       "    </tr>\n",
       "    <tr>\n",
       "      <th>1</th>\n",
       "      <td>M2A</td>\n",
       "      <td>Not assigned</td>\n",
       "      <td>Not assigned</td>\n",
       "    </tr>\n",
       "    <tr>\n",
       "      <th>2</th>\n",
       "      <td>M3A</td>\n",
       "      <td>North York</td>\n",
       "      <td>Parkwoods</td>\n",
       "    </tr>\n",
       "    <tr>\n",
       "      <th>3</th>\n",
       "      <td>M4A</td>\n",
       "      <td>North York</td>\n",
       "      <td>Victoria Village</td>\n",
       "    </tr>\n",
       "    <tr>\n",
       "      <th>4</th>\n",
       "      <td>M5A</td>\n",
       "      <td>Downtown Toronto</td>\n",
       "      <td>Regent Park, Harbourfront</td>\n",
       "    </tr>\n",
       "    <tr>\n",
       "      <th>...</th>\n",
       "      <td>...</td>\n",
       "      <td>...</td>\n",
       "      <td>...</td>\n",
       "    </tr>\n",
       "    <tr>\n",
       "      <th>175</th>\n",
       "      <td>M5Z</td>\n",
       "      <td>Not assigned</td>\n",
       "      <td>Not assigned</td>\n",
       "    </tr>\n",
       "    <tr>\n",
       "      <th>176</th>\n",
       "      <td>M6Z</td>\n",
       "      <td>Not assigned</td>\n",
       "      <td>Not assigned</td>\n",
       "    </tr>\n",
       "    <tr>\n",
       "      <th>177</th>\n",
       "      <td>M7Z</td>\n",
       "      <td>Not assigned</td>\n",
       "      <td>Not assigned</td>\n",
       "    </tr>\n",
       "    <tr>\n",
       "      <th>178</th>\n",
       "      <td>M8Z</td>\n",
       "      <td>Etobicoke</td>\n",
       "      <td>Mimico NW, The Queensway West, South of Bloor,...</td>\n",
       "    </tr>\n",
       "    <tr>\n",
       "      <th>179</th>\n",
       "      <td>M9Z</td>\n",
       "      <td>Not assigned</td>\n",
       "      <td>Not assigned</td>\n",
       "    </tr>\n",
       "  </tbody>\n",
       "</table>\n",
       "<p>180 rows × 3 columns</p>\n",
       "</div>"
      ],
      "text/plain": [
       "    Postal Code           Borough  \\\n",
       "0           M1A      Not assigned   \n",
       "1           M2A      Not assigned   \n",
       "2           M3A        North York   \n",
       "3           M4A        North York   \n",
       "4           M5A  Downtown Toronto   \n",
       "..          ...               ...   \n",
       "175         M5Z      Not assigned   \n",
       "176         M6Z      Not assigned   \n",
       "177         M7Z      Not assigned   \n",
       "178         M8Z         Etobicoke   \n",
       "179         M9Z      Not assigned   \n",
       "\n",
       "                                         Neighbourhood  \n",
       "0                                         Not assigned  \n",
       "1                                         Not assigned  \n",
       "2                                            Parkwoods  \n",
       "3                                     Victoria Village  \n",
       "4                            Regent Park, Harbourfront  \n",
       "..                                                 ...  \n",
       "175                                       Not assigned  \n",
       "176                                       Not assigned  \n",
       "177                                       Not assigned  \n",
       "178  Mimico NW, The Queensway West, South of Bloor,...  \n",
       "179                                       Not assigned  \n",
       "\n",
       "[180 rows x 3 columns]"
      ]
     },
     "execution_count": 5,
     "metadata": {},
     "output_type": "execute_result"
    }
   ],
   "source": [
    "data"
   ]
  },
  {
   "cell_type": "markdown",
   "metadata": {},
   "source": [
    "## Removing the rows which who's borough is not assigned"
   ]
  },
  {
   "cell_type": "code",
   "execution_count": 6,
   "metadata": {},
   "outputs": [],
   "source": [
    "data = data[data.Borough != 'Not assigned']"
   ]
  },
  {
   "cell_type": "code",
   "execution_count": 7,
   "metadata": {},
   "outputs": [
    {
     "data": {
      "text/html": [
       "<div>\n",
       "<style scoped>\n",
       "    .dataframe tbody tr th:only-of-type {\n",
       "        vertical-align: middle;\n",
       "    }\n",
       "\n",
       "    .dataframe tbody tr th {\n",
       "        vertical-align: top;\n",
       "    }\n",
       "\n",
       "    .dataframe thead th {\n",
       "        text-align: right;\n",
       "    }\n",
       "</style>\n",
       "<table border=\"1\" class=\"dataframe\">\n",
       "  <thead>\n",
       "    <tr style=\"text-align: right;\">\n",
       "      <th></th>\n",
       "      <th>Postal Code</th>\n",
       "      <th>Borough</th>\n",
       "      <th>Neighbourhood</th>\n",
       "    </tr>\n",
       "  </thead>\n",
       "  <tbody>\n",
       "    <tr>\n",
       "      <th>2</th>\n",
       "      <td>M3A</td>\n",
       "      <td>North York</td>\n",
       "      <td>Parkwoods</td>\n",
       "    </tr>\n",
       "    <tr>\n",
       "      <th>3</th>\n",
       "      <td>M4A</td>\n",
       "      <td>North York</td>\n",
       "      <td>Victoria Village</td>\n",
       "    </tr>\n",
       "    <tr>\n",
       "      <th>4</th>\n",
       "      <td>M5A</td>\n",
       "      <td>Downtown Toronto</td>\n",
       "      <td>Regent Park, Harbourfront</td>\n",
       "    </tr>\n",
       "    <tr>\n",
       "      <th>5</th>\n",
       "      <td>M6A</td>\n",
       "      <td>North York</td>\n",
       "      <td>Lawrence Manor, Lawrence Heights</td>\n",
       "    </tr>\n",
       "    <tr>\n",
       "      <th>6</th>\n",
       "      <td>M7A</td>\n",
       "      <td>Downtown Toronto</td>\n",
       "      <td>Queen's Park, Ontario Provincial Government</td>\n",
       "    </tr>\n",
       "    <tr>\n",
       "      <th>...</th>\n",
       "      <td>...</td>\n",
       "      <td>...</td>\n",
       "      <td>...</td>\n",
       "    </tr>\n",
       "    <tr>\n",
       "      <th>160</th>\n",
       "      <td>M8X</td>\n",
       "      <td>Etobicoke</td>\n",
       "      <td>The Kingsway, Montgomery Road, Old Mill North</td>\n",
       "    </tr>\n",
       "    <tr>\n",
       "      <th>165</th>\n",
       "      <td>M4Y</td>\n",
       "      <td>Downtown Toronto</td>\n",
       "      <td>Church and Wellesley</td>\n",
       "    </tr>\n",
       "    <tr>\n",
       "      <th>168</th>\n",
       "      <td>M7Y</td>\n",
       "      <td>East Toronto</td>\n",
       "      <td>Business reply mail Processing Centre, South C...</td>\n",
       "    </tr>\n",
       "    <tr>\n",
       "      <th>169</th>\n",
       "      <td>M8Y</td>\n",
       "      <td>Etobicoke</td>\n",
       "      <td>Old Mill South, King's Mill Park, Sunnylea, Hu...</td>\n",
       "    </tr>\n",
       "    <tr>\n",
       "      <th>178</th>\n",
       "      <td>M8Z</td>\n",
       "      <td>Etobicoke</td>\n",
       "      <td>Mimico NW, The Queensway West, South of Bloor,...</td>\n",
       "    </tr>\n",
       "  </tbody>\n",
       "</table>\n",
       "<p>103 rows × 3 columns</p>\n",
       "</div>"
      ],
      "text/plain": [
       "    Postal Code           Borough  \\\n",
       "2           M3A        North York   \n",
       "3           M4A        North York   \n",
       "4           M5A  Downtown Toronto   \n",
       "5           M6A        North York   \n",
       "6           M7A  Downtown Toronto   \n",
       "..          ...               ...   \n",
       "160         M8X         Etobicoke   \n",
       "165         M4Y  Downtown Toronto   \n",
       "168         M7Y      East Toronto   \n",
       "169         M8Y         Etobicoke   \n",
       "178         M8Z         Etobicoke   \n",
       "\n",
       "                                         Neighbourhood  \n",
       "2                                            Parkwoods  \n",
       "3                                     Victoria Village  \n",
       "4                            Regent Park, Harbourfront  \n",
       "5                     Lawrence Manor, Lawrence Heights  \n",
       "6          Queen's Park, Ontario Provincial Government  \n",
       "..                                                 ...  \n",
       "160      The Kingsway, Montgomery Road, Old Mill North  \n",
       "165                               Church and Wellesley  \n",
       "168  Business reply mail Processing Centre, South C...  \n",
       "169  Old Mill South, King's Mill Park, Sunnylea, Hu...  \n",
       "178  Mimico NW, The Queensway West, South of Bloor,...  \n",
       "\n",
       "[103 rows x 3 columns]"
      ]
     },
     "execution_count": 7,
     "metadata": {},
     "output_type": "execute_result"
    }
   ],
   "source": [
    "data"
   ]
  },
  {
   "cell_type": "markdown",
   "metadata": {},
   "source": [
    "## Finding out the rows who's Neighbourhood is not assigned"
   ]
  },
  {
   "cell_type": "code",
   "execution_count": 8,
   "metadata": {},
   "outputs": [
    {
     "data": {
      "text/html": [
       "<div>\n",
       "<style scoped>\n",
       "    .dataframe tbody tr th:only-of-type {\n",
       "        vertical-align: middle;\n",
       "    }\n",
       "\n",
       "    .dataframe tbody tr th {\n",
       "        vertical-align: top;\n",
       "    }\n",
       "\n",
       "    .dataframe thead th {\n",
       "        text-align: right;\n",
       "    }\n",
       "</style>\n",
       "<table border=\"1\" class=\"dataframe\">\n",
       "  <thead>\n",
       "    <tr style=\"text-align: right;\">\n",
       "      <th></th>\n",
       "      <th>Postal Code</th>\n",
       "      <th>Borough</th>\n",
       "      <th>Neighbourhood</th>\n",
       "    </tr>\n",
       "  </thead>\n",
       "  <tbody>\n",
       "  </tbody>\n",
       "</table>\n",
       "</div>"
      ],
      "text/plain": [
       "Empty DataFrame\n",
       "Columns: [Postal Code, Borough, Neighbourhood]\n",
       "Index: []"
      ]
     },
     "execution_count": 8,
     "metadata": {},
     "output_type": "execute_result"
    }
   ],
   "source": [
    "data[data.Neighbourhood == 'Not assigned'] ## No rows"
   ]
  },
  {
   "cell_type": "markdown",
   "metadata": {},
   "source": [
    "## Using the. shapre metho to print number of rows of the dataframe"
   ]
  },
  {
   "cell_type": "code",
   "execution_count": 9,
   "metadata": {},
   "outputs": [
    {
     "data": {
      "text/plain": [
       "103"
      ]
     },
     "execution_count": 9,
     "metadata": {},
     "output_type": "execute_result"
    }
   ],
   "source": [
    "data.shape[0]"
   ]
  },
  {
   "cell_type": "markdown",
   "metadata": {},
   "source": [
    "# PART 2"
   ]
  },
  {
   "cell_type": "markdown",
   "metadata": {},
   "source": [
    "## Load the geo codes data"
   ]
  },
  {
   "cell_type": "code",
   "execution_count": 10,
   "metadata": {},
   "outputs": [],
   "source": [
    "geo_codes = pd.read_csv('http://cocl.us/Geospatial_data')"
   ]
  },
  {
   "cell_type": "markdown",
   "metadata": {},
   "source": [
    "## Store the postal code values from the original data"
   ]
  },
  {
   "cell_type": "code",
   "execution_count": 11,
   "metadata": {},
   "outputs": [],
   "source": [
    "post_code = data['Postal Code']"
   ]
  },
  {
   "cell_type": "markdown",
   "metadata": {},
   "source": [
    "## Store the latitude and longitude values for corresponding postal codes"
   ]
  },
  {
   "cell_type": "code",
   "execution_count": 12,
   "metadata": {},
   "outputs": [],
   "source": [
    "latitude = []\n",
    "longitude = []\n",
    "for pcd in post_code:\n",
    "    i = 0\n",
    "    for pcg in geo_codes['Postal Code']:\n",
    "        if pcd == pcg:\n",
    "            #print('i = ', i)\n",
    "            latitude.append(geo_codes['Latitude'][i])\n",
    "            longitude.append(geo_codes['Longitude'][i])\n",
    "        i += 1"
   ]
  },
  {
   "cell_type": "markdown",
   "metadata": {},
   "source": [
    "## Adding the columns longitude and latitude to the earlier created data frame"
   ]
  },
  {
   "cell_type": "code",
   "execution_count": 13,
   "metadata": {},
   "outputs": [
    {
     "name": "stderr",
     "output_type": "stream",
     "text": [
      "C:\\ProgramData\\Anaconda3\\lib\\site-packages\\ipykernel_launcher.py:1: SettingWithCopyWarning: \n",
      "A value is trying to be set on a copy of a slice from a DataFrame.\n",
      "Try using .loc[row_indexer,col_indexer] = value instead\n",
      "\n",
      "See the caveats in the documentation: https://pandas.pydata.org/pandas-docs/stable/user_guide/indexing.html#returning-a-view-versus-a-copy\n",
      "  \"\"\"Entry point for launching an IPython kernel.\n",
      "C:\\ProgramData\\Anaconda3\\lib\\site-packages\\ipykernel_launcher.py:2: SettingWithCopyWarning: \n",
      "A value is trying to be set on a copy of a slice from a DataFrame.\n",
      "Try using .loc[row_indexer,col_indexer] = value instead\n",
      "\n",
      "See the caveats in the documentation: https://pandas.pydata.org/pandas-docs/stable/user_guide/indexing.html#returning-a-view-versus-a-copy\n",
      "  \n"
     ]
    }
   ],
   "source": [
    "data['Latitude'] = latitude\n",
    "data['Longitude'] = longitude"
   ]
  },
  {
   "cell_type": "markdown",
   "metadata": {},
   "source": [
    "## Display the data"
   ]
  },
  {
   "cell_type": "code",
   "execution_count": 14,
   "metadata": {},
   "outputs": [
    {
     "data": {
      "text/html": [
       "<div>\n",
       "<style scoped>\n",
       "    .dataframe tbody tr th:only-of-type {\n",
       "        vertical-align: middle;\n",
       "    }\n",
       "\n",
       "    .dataframe tbody tr th {\n",
       "        vertical-align: top;\n",
       "    }\n",
       "\n",
       "    .dataframe thead th {\n",
       "        text-align: right;\n",
       "    }\n",
       "</style>\n",
       "<table border=\"1\" class=\"dataframe\">\n",
       "  <thead>\n",
       "    <tr style=\"text-align: right;\">\n",
       "      <th></th>\n",
       "      <th>Postal Code</th>\n",
       "      <th>Borough</th>\n",
       "      <th>Neighbourhood</th>\n",
       "      <th>Latitude</th>\n",
       "      <th>Longitude</th>\n",
       "    </tr>\n",
       "  </thead>\n",
       "  <tbody>\n",
       "    <tr>\n",
       "      <th>2</th>\n",
       "      <td>M3A</td>\n",
       "      <td>North York</td>\n",
       "      <td>Parkwoods</td>\n",
       "      <td>43.753259</td>\n",
       "      <td>-79.329656</td>\n",
       "    </tr>\n",
       "    <tr>\n",
       "      <th>3</th>\n",
       "      <td>M4A</td>\n",
       "      <td>North York</td>\n",
       "      <td>Victoria Village</td>\n",
       "      <td>43.725882</td>\n",
       "      <td>-79.315572</td>\n",
       "    </tr>\n",
       "    <tr>\n",
       "      <th>4</th>\n",
       "      <td>M5A</td>\n",
       "      <td>Downtown Toronto</td>\n",
       "      <td>Regent Park, Harbourfront</td>\n",
       "      <td>43.654260</td>\n",
       "      <td>-79.360636</td>\n",
       "    </tr>\n",
       "    <tr>\n",
       "      <th>5</th>\n",
       "      <td>M6A</td>\n",
       "      <td>North York</td>\n",
       "      <td>Lawrence Manor, Lawrence Heights</td>\n",
       "      <td>43.718518</td>\n",
       "      <td>-79.464763</td>\n",
       "    </tr>\n",
       "    <tr>\n",
       "      <th>6</th>\n",
       "      <td>M7A</td>\n",
       "      <td>Downtown Toronto</td>\n",
       "      <td>Queen's Park, Ontario Provincial Government</td>\n",
       "      <td>43.662301</td>\n",
       "      <td>-79.389494</td>\n",
       "    </tr>\n",
       "    <tr>\n",
       "      <th>...</th>\n",
       "      <td>...</td>\n",
       "      <td>...</td>\n",
       "      <td>...</td>\n",
       "      <td>...</td>\n",
       "      <td>...</td>\n",
       "    </tr>\n",
       "    <tr>\n",
       "      <th>160</th>\n",
       "      <td>M8X</td>\n",
       "      <td>Etobicoke</td>\n",
       "      <td>The Kingsway, Montgomery Road, Old Mill North</td>\n",
       "      <td>43.653654</td>\n",
       "      <td>-79.506944</td>\n",
       "    </tr>\n",
       "    <tr>\n",
       "      <th>165</th>\n",
       "      <td>M4Y</td>\n",
       "      <td>Downtown Toronto</td>\n",
       "      <td>Church and Wellesley</td>\n",
       "      <td>43.665860</td>\n",
       "      <td>-79.383160</td>\n",
       "    </tr>\n",
       "    <tr>\n",
       "      <th>168</th>\n",
       "      <td>M7Y</td>\n",
       "      <td>East Toronto</td>\n",
       "      <td>Business reply mail Processing Centre, South C...</td>\n",
       "      <td>43.662744</td>\n",
       "      <td>-79.321558</td>\n",
       "    </tr>\n",
       "    <tr>\n",
       "      <th>169</th>\n",
       "      <td>M8Y</td>\n",
       "      <td>Etobicoke</td>\n",
       "      <td>Old Mill South, King's Mill Park, Sunnylea, Hu...</td>\n",
       "      <td>43.636258</td>\n",
       "      <td>-79.498509</td>\n",
       "    </tr>\n",
       "    <tr>\n",
       "      <th>178</th>\n",
       "      <td>M8Z</td>\n",
       "      <td>Etobicoke</td>\n",
       "      <td>Mimico NW, The Queensway West, South of Bloor,...</td>\n",
       "      <td>43.628841</td>\n",
       "      <td>-79.520999</td>\n",
       "    </tr>\n",
       "  </tbody>\n",
       "</table>\n",
       "<p>103 rows × 5 columns</p>\n",
       "</div>"
      ],
      "text/plain": [
       "    Postal Code           Borough  \\\n",
       "2           M3A        North York   \n",
       "3           M4A        North York   \n",
       "4           M5A  Downtown Toronto   \n",
       "5           M6A        North York   \n",
       "6           M7A  Downtown Toronto   \n",
       "..          ...               ...   \n",
       "160         M8X         Etobicoke   \n",
       "165         M4Y  Downtown Toronto   \n",
       "168         M7Y      East Toronto   \n",
       "169         M8Y         Etobicoke   \n",
       "178         M8Z         Etobicoke   \n",
       "\n",
       "                                         Neighbourhood   Latitude  Longitude  \n",
       "2                                            Parkwoods  43.753259 -79.329656  \n",
       "3                                     Victoria Village  43.725882 -79.315572  \n",
       "4                            Regent Park, Harbourfront  43.654260 -79.360636  \n",
       "5                     Lawrence Manor, Lawrence Heights  43.718518 -79.464763  \n",
       "6          Queen's Park, Ontario Provincial Government  43.662301 -79.389494  \n",
       "..                                                 ...        ...        ...  \n",
       "160      The Kingsway, Montgomery Road, Old Mill North  43.653654 -79.506944  \n",
       "165                               Church and Wellesley  43.665860 -79.383160  \n",
       "168  Business reply mail Processing Centre, South C...  43.662744 -79.321558  \n",
       "169  Old Mill South, King's Mill Park, Sunnylea, Hu...  43.636258 -79.498509  \n",
       "178  Mimico NW, The Queensway West, South of Bloor,...  43.628841 -79.520999  \n",
       "\n",
       "[103 rows x 5 columns]"
      ]
     },
     "execution_count": 14,
     "metadata": {},
     "output_type": "execute_result"
    }
   ],
   "source": [
    "data"
   ]
  },
  {
   "cell_type": "markdown",
   "metadata": {},
   "source": [
    "# PART 3"
   ]
  },
  {
   "cell_type": "markdown",
   "metadata": {},
   "source": [
    "## Importing necessary libraries"
   ]
  },
  {
   "cell_type": "code",
   "execution_count": 15,
   "metadata": {},
   "outputs": [],
   "source": [
    "import json\n",
    "\n",
    "from geopy.geocoders import Nominatim \n",
    "\n",
    "import requests \n",
    "from pandas.io.json import json_normalize \n",
    "\n",
    "import matplotlib.cm as cm\n",
    "import matplotlib.colors as colors\n",
    "\n",
    "\n",
    "from sklearn.cluster import KMeans\n",
    "\n",
    "import folium # map rendering library\n"
   ]
  },
  {
   "cell_type": "code",
   "execution_count": 16,
   "metadata": {},
   "outputs": [],
   "source": [
    "column_names = ['Borough', 'Neighbourhood', 'Latitude', 'Longitude'] "
   ]
  },
  {
   "cell_type": "code",
   "execution_count": 17,
   "metadata": {},
   "outputs": [],
   "source": [
    "neighborhoods = data[column_names]"
   ]
  },
  {
   "cell_type": "code",
   "execution_count": 18,
   "metadata": {},
   "outputs": [],
   "source": [
    "neighborhoods.reset_index(drop = True, inplace = True)"
   ]
  },
  {
   "cell_type": "code",
   "execution_count": 19,
   "metadata": {},
   "outputs": [
    {
     "data": {
      "text/html": [
       "<div>\n",
       "<style scoped>\n",
       "    .dataframe tbody tr th:only-of-type {\n",
       "        vertical-align: middle;\n",
       "    }\n",
       "\n",
       "    .dataframe tbody tr th {\n",
       "        vertical-align: top;\n",
       "    }\n",
       "\n",
       "    .dataframe thead th {\n",
       "        text-align: right;\n",
       "    }\n",
       "</style>\n",
       "<table border=\"1\" class=\"dataframe\">\n",
       "  <thead>\n",
       "    <tr style=\"text-align: right;\">\n",
       "      <th></th>\n",
       "      <th>Borough</th>\n",
       "      <th>Neighbourhood</th>\n",
       "      <th>Latitude</th>\n",
       "      <th>Longitude</th>\n",
       "    </tr>\n",
       "  </thead>\n",
       "  <tbody>\n",
       "    <tr>\n",
       "      <th>0</th>\n",
       "      <td>North York</td>\n",
       "      <td>Parkwoods</td>\n",
       "      <td>43.753259</td>\n",
       "      <td>-79.329656</td>\n",
       "    </tr>\n",
       "    <tr>\n",
       "      <th>1</th>\n",
       "      <td>North York</td>\n",
       "      <td>Victoria Village</td>\n",
       "      <td>43.725882</td>\n",
       "      <td>-79.315572</td>\n",
       "    </tr>\n",
       "    <tr>\n",
       "      <th>2</th>\n",
       "      <td>Downtown Toronto</td>\n",
       "      <td>Regent Park, Harbourfront</td>\n",
       "      <td>43.654260</td>\n",
       "      <td>-79.360636</td>\n",
       "    </tr>\n",
       "    <tr>\n",
       "      <th>3</th>\n",
       "      <td>North York</td>\n",
       "      <td>Lawrence Manor, Lawrence Heights</td>\n",
       "      <td>43.718518</td>\n",
       "      <td>-79.464763</td>\n",
       "    </tr>\n",
       "    <tr>\n",
       "      <th>4</th>\n",
       "      <td>Downtown Toronto</td>\n",
       "      <td>Queen's Park, Ontario Provincial Government</td>\n",
       "      <td>43.662301</td>\n",
       "      <td>-79.389494</td>\n",
       "    </tr>\n",
       "  </tbody>\n",
       "</table>\n",
       "</div>"
      ],
      "text/plain": [
       "            Borough                                Neighbourhood   Latitude  \\\n",
       "0        North York                                    Parkwoods  43.753259   \n",
       "1        North York                             Victoria Village  43.725882   \n",
       "2  Downtown Toronto                    Regent Park, Harbourfront  43.654260   \n",
       "3        North York             Lawrence Manor, Lawrence Heights  43.718518   \n",
       "4  Downtown Toronto  Queen's Park, Ontario Provincial Government  43.662301   \n",
       "\n",
       "   Longitude  \n",
       "0 -79.329656  \n",
       "1 -79.315572  \n",
       "2 -79.360636  \n",
       "3 -79.464763  \n",
       "4 -79.389494  "
      ]
     },
     "execution_count": 19,
     "metadata": {},
     "output_type": "execute_result"
    }
   ],
   "source": [
    "neighborhoods.head()"
   ]
  },
  {
   "cell_type": "code",
   "execution_count": 20,
   "metadata": {},
   "outputs": [
    {
     "name": "stdout",
     "output_type": "stream",
     "text": [
      "The dataframe has 10 boroughs and 103 neighborhoods.\n"
     ]
    }
   ],
   "source": [
    "print('The dataframe has {} boroughs and {} neighborhoods.'.format(\n",
    "        len(neighborhoods['Borough'].unique()),\n",
    "        neighborhoods.shape[0]\n",
    "    )\n",
    ")"
   ]
  },
  {
   "cell_type": "markdown",
   "metadata": {},
   "source": [
    "## Finding the latitude and longitude values for toronto"
   ]
  },
  {
   "cell_type": "code",
   "execution_count": 21,
   "metadata": {},
   "outputs": [
    {
     "name": "stdout",
     "output_type": "stream",
     "text": [
      "The geograpical coordinate of Toronto are 43.6534817, -79.3839347.\n"
     ]
    }
   ],
   "source": [
    "address = 'Toronto'\n",
    "\n",
    "geolocator = Nominatim(user_agent=\"ny_explorer\")\n",
    "location = geolocator.geocode(address)\n",
    "latitude = location.latitude\n",
    "longitude = location.longitude\n",
    "print('The geograpical coordinate of Toronto are {}, {}.'.format(latitude, longitude))"
   ]
  },
  {
   "cell_type": "markdown",
   "metadata": {},
   "source": [
    "## Finding the boroughs with toronto"
   ]
  },
  {
   "cell_type": "code",
   "execution_count": 22,
   "metadata": {},
   "outputs": [],
   "source": [
    "toronto_data = neighborhoods[neighborhoods['Borough'].str.contains('Toronto',regex=False)]"
   ]
  },
  {
   "cell_type": "markdown",
   "metadata": {},
   "source": [
    "## Creating map"
   ]
  },
  {
   "cell_type": "code",
   "execution_count": 23,
   "metadata": {},
   "outputs": [],
   "source": [
    "map_toronto = folium.Map(location=[43.6534817, -79.3839347], zoom_start=10)"
   ]
  },
  {
   "cell_type": "code",
   "execution_count": 24,
   "metadata": {},
   "outputs": [],
   "source": [
    "for lat, lng, borough, neighborhood in zip(toronto_data['Latitude'], toronto_data['Longitude'], toronto_data['Borough'], toronto_data['Neighbourhood']):\n",
    "    label = '{}, {}'.format(neighborhood, borough)\n",
    "    label = folium.Popup(label, parse_html=True)\n",
    "    folium.CircleMarker(\n",
    "        [lat, lng],\n",
    "        radius=5,\n",
    "        popup=label,\n",
    "        color='green',\n",
    "        fill=True,\n",
    "        fill_color='#3186cc',\n",
    "        fill_opacity=0.7,\n",
    "        parse_html=False).add_to(map_toronto)"
   ]
  },
  {
   "cell_type": "code",
   "execution_count": 25,
   "metadata": {
    "scrolled": true
   },
   "outputs": [
    {
     "data": {
      "text/html": [
       "<div style=\"width:100%;\"><div style=\"position:relative;width:100%;height:0;padding-bottom:60%;\"><span style=\"color:#565656\">Make this Notebook Trusted to load map: File -> Trust Notebook</span><iframe src=\"about:blank\" style=\"position:absolute;width:100%;height:100%;left:0;top:0;border:none !important;\" data-html=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 onload=\"this.contentDocument.open();this.contentDocument.write(atob(this.getAttribute('data-html')));this.contentDocument.close();\" allowfullscreen webkitallowfullscreen mozallowfullscreen></iframe></div></div>"
      ],
      "text/plain": [
       "<folium.folium.Map at 0x2a8d4cf74c8>"
      ]
     },
     "execution_count": 25,
     "metadata": {},
     "output_type": "execute_result"
    }
   ],
   "source": [
    "map_toronto"
   ]
  },
  {
   "cell_type": "markdown",
   "metadata": {},
   "source": [
    "## Using K-Means clustering to cluster the neighbourhoods in toronto"
   ]
  },
  {
   "cell_type": "code",
   "execution_count": 26,
   "metadata": {},
   "outputs": [],
   "source": [
    "## Importing libraries\n",
    "import matplotlib.pyplot as plt\n",
    "import matplotlib.cm as cm\n",
    "import matplotlib.colors as colors"
   ]
  },
  {
   "cell_type": "code",
   "execution_count": 27,
   "metadata": {},
   "outputs": [],
   "source": [
    "k = 6\n",
    "cluster = toronto_data[['Latitude', 'Longitude']]\n",
    "kmeans = KMeans(n_clusters = k, random_state = 0).fit(cluster)\n",
    "kmeans.labels_\n",
    "toronto_data.insert(0, 'Cluster Labels', kmeans.labels_)"
   ]
  },
  {
   "cell_type": "code",
   "execution_count": 28,
   "metadata": {},
   "outputs": [
    {
     "data": {
      "text/html": [
       "<div>\n",
       "<style scoped>\n",
       "    .dataframe tbody tr th:only-of-type {\n",
       "        vertical-align: middle;\n",
       "    }\n",
       "\n",
       "    .dataframe tbody tr th {\n",
       "        vertical-align: top;\n",
       "    }\n",
       "\n",
       "    .dataframe thead th {\n",
       "        text-align: right;\n",
       "    }\n",
       "</style>\n",
       "<table border=\"1\" class=\"dataframe\">\n",
       "  <thead>\n",
       "    <tr style=\"text-align: right;\">\n",
       "      <th></th>\n",
       "      <th>Cluster Labels</th>\n",
       "      <th>Borough</th>\n",
       "      <th>Neighbourhood</th>\n",
       "      <th>Latitude</th>\n",
       "      <th>Longitude</th>\n",
       "    </tr>\n",
       "  </thead>\n",
       "  <tbody>\n",
       "    <tr>\n",
       "      <th>2</th>\n",
       "      <td>0</td>\n",
       "      <td>Downtown Toronto</td>\n",
       "      <td>Regent Park, Harbourfront</td>\n",
       "      <td>43.654260</td>\n",
       "      <td>-79.360636</td>\n",
       "    </tr>\n",
       "    <tr>\n",
       "      <th>4</th>\n",
       "      <td>2</td>\n",
       "      <td>Downtown Toronto</td>\n",
       "      <td>Queen's Park, Ontario Provincial Government</td>\n",
       "      <td>43.662301</td>\n",
       "      <td>-79.389494</td>\n",
       "    </tr>\n",
       "    <tr>\n",
       "      <th>9</th>\n",
       "      <td>2</td>\n",
       "      <td>Downtown Toronto</td>\n",
       "      <td>Garden District, Ryerson</td>\n",
       "      <td>43.657162</td>\n",
       "      <td>-79.378937</td>\n",
       "    </tr>\n",
       "    <tr>\n",
       "      <th>15</th>\n",
       "      <td>2</td>\n",
       "      <td>Downtown Toronto</td>\n",
       "      <td>St. James Town</td>\n",
       "      <td>43.651494</td>\n",
       "      <td>-79.375418</td>\n",
       "    </tr>\n",
       "    <tr>\n",
       "      <th>19</th>\n",
       "      <td>4</td>\n",
       "      <td>East Toronto</td>\n",
       "      <td>The Beaches</td>\n",
       "      <td>43.676357</td>\n",
       "      <td>-79.293031</td>\n",
       "    </tr>\n",
       "  </tbody>\n",
       "</table>\n",
       "</div>"
      ],
      "text/plain": [
       "    Cluster Labels           Borough  \\\n",
       "2                0  Downtown Toronto   \n",
       "4                2  Downtown Toronto   \n",
       "9                2  Downtown Toronto   \n",
       "15               2  Downtown Toronto   \n",
       "19               4      East Toronto   \n",
       "\n",
       "                                  Neighbourhood   Latitude  Longitude  \n",
       "2                     Regent Park, Harbourfront  43.654260 -79.360636  \n",
       "4   Queen's Park, Ontario Provincial Government  43.662301 -79.389494  \n",
       "9                      Garden District, Ryerson  43.657162 -79.378937  \n",
       "15                               St. James Town  43.651494 -79.375418  \n",
       "19                                  The Beaches  43.676357 -79.293031  "
      ]
     },
     "execution_count": 28,
     "metadata": {},
     "output_type": "execute_result"
    }
   ],
   "source": [
    "toronto_data.head()"
   ]
  },
  {
   "cell_type": "code",
   "execution_count": 29,
   "metadata": {
    "scrolled": true
   },
   "outputs": [
    {
     "data": {
      "text/html": [
       "<div style=\"width:100%;\"><div style=\"position:relative;width:100%;height:0;padding-bottom:60%;\"><span style=\"color:#565656\">Make this Notebook Trusted to load map: File -> Trust Notebook</span><iframe src=\"about:blank\" style=\"position:absolute;width:100%;height:100%;left:0;top:0;border:none !important;\" data-html=PCFET0NUWVBFIGh0bWw+CjxoZWFkPiAgICAKICAgIDxtZXRhIGh0dHAtZXF1aXY9ImNvbnRlbnQtdHlwZSIgY29udGVudD0idGV4dC9odG1sOyBjaGFyc2V0PVVURi04IiAvPgogICAgCiAgICAgICAgPHNjcmlwdD4KICAgICAgICAgICAgTF9OT19UT1VDSCA9IGZhbHNlOwogICAgICAgICAgICBMX0RJU0FCTEVfM0QgPSBmYWxzZTsKICAgICAgICA8L3NjcmlwdD4KICAgIAogICAgPHNjcmlwdCBzcmM9Imh0dHBzOi8vY2RuLmpzZGVsaXZyLm5ldC9ucG0vbGVhZmxldEAxLjYuMC9kaXN0L2xlYWZsZXQuanMiPjwvc2NyaXB0PgogICAgPHNjcmlwdCBzcmM9Imh0dHBzOi8vY29kZS5qcXVlcnkuY29tL2pxdWVyeS0xLjEyLjQubWluLmpzIj48L3NjcmlwdD4KICAgIDxzY3JpcHQgc3JjPSJodHRwczovL21heGNkbi5ib290c3RyYXBjZG4uY29tL2Jvb3RzdHJhcC8zLjIuMC9qcy9ib290c3RyYXAubWluLmpzIj48L3NjcmlwdD4KICAgIDxzY3JpcHQgc3JjPSJodHRwczovL2NkbmpzLmNsb3VkZmxhcmUuY29tL2FqYXgvbGlicy9MZWFmbGV0LmF3ZXNvbWUtbWFya2Vycy8yLjAuMi9sZWFmbGV0LmF3ZXNvbWUtbWFya2Vycy5qcyI+PC9zY3JpcHQ+CiAgICA8bGluayByZWw9InN0eWxlc2hlZXQiIGhyZWY9Imh0dHBzOi8vY2RuLmpzZGVsaXZyLm5ldC9ucG0vbGVhZmxldEAxLjYuMC9kaXN0L2xlYWZsZXQuY3NzIi8+CiAgICA8bGluayByZWw9InN0eWxlc2hlZXQiIGhyZWY9Imh0dHBzOi8vbWF4Y2RuLmJvb3RzdHJhcGNkbi5jb20vYm9vdHN0cmFwLzMuMi4wL2Nzcy9ib290c3RyYXAubWluLmNzcyIvPgogICAgPGxpbmsgcmVsPSJzdHlsZXNoZWV0IiBocmVmPSJodHRwczovL21heGNkbi5ib290c3RyYXBjZG4uY29tL2Jvb3RzdHJhcC8zLjIuMC9jc3MvYm9vdHN0cmFwLXRoZW1lLm1pbi5jc3MiLz4KICAgIDxsaW5rIHJlbD0ic3R5bGVzaGVldCIgaHJlZj0iaHR0cHM6Ly9tYXhjZG4uYm9vdHN0cmFwY2RuLmNvbS9mb250LWF3ZXNvbWUvNC42LjMvY3NzL2ZvbnQtYXdlc29tZS5taW4uY3NzIi8+CiAgICA8bGluayByZWw9InN0eWxlc2hlZXQiIGhyZWY9Imh0dHBzOi8vY2RuanMuY2xvdWRmbGFyZS5jb20vYWpheC9saWJzL0xlYWZsZXQuYXdlc29tZS1tYXJrZXJzLzIuMC4yL2xlYWZsZXQuYXdlc29tZS1tYXJrZXJzLmNzcyIvPgogICAgPGxpbmsgcmVsPSJzdHlsZXNoZWV0IiBocmVmPSJodHRwczovL3Jhd2Nkbi5naXRoYWNrLmNvbS9weXRob24tdmlzdWFsaXphdGlvbi9mb2xpdW0vbWFzdGVyL2ZvbGl1bS90ZW1wbGF0ZXMvbGVhZmxldC5hd2Vzb21lLnJvdGF0ZS5jc3MiLz4KICAgIDxzdHlsZT5odG1sLCBib2R5IHt3aWR0aDogMTAwJTtoZWlnaHQ6IDEwMCU7bWFyZ2luOiAwO3BhZGRpbmc6IDA7fTwvc3R5bGU+CiAgICA8c3R5bGU+I21hcCB7cG9zaXRpb246YWJzb2x1dGU7dG9wOjA7Ym90dG9tOjA7cmlnaHQ6MDtsZWZ0OjA7fTwvc3R5bGU+CiAgICAKICAgICAgICAgICAgPG1ldGEgbmFtZT0idmlld3BvcnQiIGNvbnRlbnQ9IndpZHRoPWRldmljZS13aWR0aCwKICAgICAgICAgICAgICAgIGluaXRpYWwtc2NhbGU9MS4wLCBtYXhpbXVtLXNjYWxlPTEuMCwgdXNlci1zY2FsYWJsZT1ubyIgLz4KICAgICAgICAgICAgPHN0eWxlPgogICAgICAgICAgICAgICAgI21hcF9hZTJjNjI1OThkNzU0OGM4YjY1MTQ4NWMzOWIyNGRiMyB7CiAgICAgICAgICAgICAgICAgICAgcG9zaXRpb246IHJlbGF0aXZlOwogICAgICAgICAgICAgICAgICAgIHdpZHRoOiAxMDAuMCU7CiAgICAgICAgICAgICAgICAgICAgaGVpZ2h0OiAxMDAuMCU7CiAgICAgICAgICAgICAgICAgICAgbGVmdDogMC4wJTsKICAgICAgICAgICAgICAgICAgICB0b3A6IDAuMCU7CiAgICAgICAgICAgICAgICB9CiAgICAgICAgICAgIDwvc3R5bGU+CiAgICAgICAgCjwvaGVhZD4KPGJvZHk+ICAgIAogICAgCiAgICAgICAgICAgIDxkaXYgY2xhc3M9ImZvbGl1bS1tYXAiIGlkPSJtYXBfYWUyYzYyNTk4ZDc1NDhjOGI2NTE0ODVjMzliMjRkYjMiID48L2Rpdj4KICAgICAgICAKPC9ib2R5Pgo8c2NyaXB0PiAgICAKICAgIAogICAgICAgICAgICB2YXIgbWFwX2FlMmM2MjU5OGQ3NTQ4YzhiNjUxNDg1YzM5YjI0ZGIzID0gTC5tYXAoCiAgICAgICAgICAgICAgICAibWFwX2FlMmM2MjU5OGQ3NTQ4YzhiNjUxNDg1YzM5YjI0ZGIzIiwKICAgICAgICAgICAgICAgIHsKICAgICAgICAgICAgICAgICAgICBjZW50ZXI6IFs0My42NTEwNywgLTc5LjM0NzAxNV0sCiAgICAgICAgICAgICAgICAgICAgY3JzOiBMLkNSUy5FUFNHMzg1NywKICAgICAgICAgICAgICAgICAgICB6b29tOiAxMCwKICAgICAgICAgICAgICAgICAgICB6b29tQ29udHJvbDogdHJ1ZSwKICAgICAgICAgICAgICAgICAgICBwcmVmZXJDYW52YXM6IGZhbHNlLAogICAgICAgICAgICAgICAgfQogICAgICAgICAgICApOwoKICAgICAgICAgICAgCgogICAgICAgIAogICAgCiAgICAgICAgICAgIHZhciB0aWxlX2xheWVyXzJkOTUzMmJiNmM4ODQwYTg5M2IyZTkzYjc5YzdkNjc2ID0gTC50aWxlTGF5ZXIoCiAgICAgICAgICAgICAgICAiaHR0cHM6Ly97c30udGlsZS5vcGVuc3RyZWV0bWFwLm9yZy97en0ve3h9L3t5fS5wbmciLAogICAgICAgICAgICAgICAgeyJhdHRyaWJ1dGlvbiI6ICJEYXRhIGJ5IFx1MDAyNmNvcHk7IFx1MDAzY2EgaHJlZj1cImh0dHA6Ly9vcGVuc3RyZWV0bWFwLm9yZ1wiXHUwMDNlT3BlblN0cmVldE1hcFx1MDAzYy9hXHUwMDNlLCB1bmRlciBcdTAwM2NhIGhyZWY9XCJodHRwOi8vd3d3Lm9wZW5zdHJlZXRtYXAub3JnL2NvcHlyaWdodFwiXHUwMDNlT0RiTFx1MDAzYy9hXHUwMDNlLiIsICJkZXRlY3RSZXRpbmEiOiBmYWxzZSwgIm1heE5hdGl2ZVpvb20iOiAxOCwgIm1heFpvb20iOiAxOCwgIm1pblpvb20iOiAwLCAibm9XcmFwIjogZmFsc2UsICJvcGFjaXR5IjogMSwgInN1YmRvbWFpbnMiOiAiYWJjIiwgInRtcyI6IGZhbHNlfQogICAgICAgICAgICApLmFkZFRvKG1hcF9hZTJjNjI1OThkNzU0OGM4YjY1MTQ4NWMzOWIyNGRiMyk7CiAgICAgICAgCiAgICAKICAgICAgICAgICAgdmFyIGNpcmNsZV9tYXJrZXJfNTRhYjRhMjVmOTk0NDA2YTg5MzdlMDgyODM5YzMwYTMgPSBMLmNpcmNsZU1hcmtlcigKICAgICAgICAgICAgICAgIFs0My42NTQyNTk5LCAtNzkuMzYwNjM1OV0sCiAgICAgICAgICAgICAgICB7ImJ1YmJsaW5nTW91c2VFdmVudHMiOiB0cnVlLCAiY29sb3IiOiAiIzMzODhmZiIsICJkYXNoQXJyYXkiOiBudWxsLCAiZGFzaE9mZnNldCI6IG51bGwsICJmaWxsIjogdHJ1ZSwgImZpbGxDb2xvciI6ICIjZmYwMDAwIiwgImZpbGxPcGFjaXR5IjogMC43LCAiZmlsbFJ1bGUiOiAiZXZlbm9kZCIsICJsaW5lQ2FwIjogInJvdW5kIiwgImxpbmVKb2luIjogInJvdW5kIiwgIm9wYWNpdHkiOiAxLjAsICJyYWRpdXMiOiA1LCAic3Ryb2tlIjogdHJ1ZSwgIndlaWdodCI6IDN9CiAgICAgICAgICAgICkuYWRkVG8obWFwX2FlMmM2MjU5OGQ3NTQ4YzhiNjUxNDg1YzM5YjI0ZGIzKTsKICAgICAgICAKICAgIAogICAgICAgIHZhciBwb3B1cF82ZmY3YmVkN2QzMmQ0Y2Y4YmIyZjFiNzczNzkxMDFlMSA9IEwucG9wdXAoeyJtYXhXaWR0aCI6ICIxMDAlIn0pOwoKICAgICAgICAKICAgICAgICAgICAgdmFyIGh0bWxfMGNkMGJiNjVjYjFmNGMwN2EwOTBmYzhhYjhjYmI5YjYgPSAkKGA8ZGl2IGlkPSJodG1sXzBjZDBiYjY1Y2IxZjRjMDdhMDkwZmM4YWI4Y2JiOWI2IiBzdHlsZT0id2lkdGg6IDEwMC4wJTsgaGVpZ2h0OiAxMDAuMCU7Ij4gQ2x1c3RlciAwPC9kaXY+YClbMF07CiAgICAgICAgICAgIHBvcHVwXzZmZjdiZWQ3ZDMyZDRjZjhiYjJmMWI3NzM3OTEwMWUxLnNldENvbnRlbnQoaHRtbF8wY2QwYmI2NWNiMWY0YzA3YTA5MGZjOGFiOGNiYjliNik7CiAgICAgICAgCgogICAgICAgIGNpcmNsZV9tYXJrZXJfNTRhYjRhMjVmOTk0NDA2YTg5MzdlMDgyODM5YzMwYTMuYmluZFBvcHVwKHBvcHVwXzZmZjdiZWQ3ZDMyZDRjZjhiYjJmMWI3NzM3OTEwMWUxKQogICAgICAgIDsKCiAgICAgICAgCiAgICAKICAgIAogICAgICAgICAgICB2YXIgY2lyY2xlX21hcmtlcl8xODRkYWFlMWVmZjk0MWU3OWQ3ZGE2NGEwNGRlYjcyYiA9IEwuY2lyY2xlTWFya2VyKAogICAgICAgICAgICAgICAgWzQzLjY2MjMwMTUsIC03OS4zODk0OTM4XSwKICAgICAgICAgICAgICAgIHsiYnViYmxpbmdNb3VzZUV2ZW50cyI6IHRydWUsICJjb2xvciI6ICIjMzM4OGZmIiwgImRhc2hBcnJheSI6IG51bGwsICJkYXNoT2Zmc2V0IjogbnVsbCwgImZpbGwiOiB0cnVlLCAiZmlsbENvbG9yIjogIiMxOTk2ZjMiLCAiZmlsbE9wYWNpdHkiOiAwLjcsICJmaWxsUnVsZSI6ICJldmVub2RkIiwgImxpbmVDYXAiOiAicm91bmQiLCAibGluZUpvaW4iOiAicm91bmQiLCAib3BhY2l0eSI6IDEuMCwgInJhZGl1cyI6IDUsICJzdHJva2UiOiB0cnVlLCAid2VpZ2h0IjogM30KICAgICAgICAgICAgKS5hZGRUbyhtYXBfYWUyYzYyNTk4ZDc1NDhjOGI2NTE0ODVjMzliMjRkYjMpOwogICAgICAgIAogICAgCiAgICAgICAgdmFyIHBvcHVwXzNkNmZiNDc5MjAwNjQ4NzZhMzEyMjMwODcxMTQ0ZGFhID0gTC5wb3B1cCh7Im1heFdpZHRoIjogIjEwMCUifSk7CgogICAgICAgIAogICAgICAgICAgICB2YXIgaHRtbF82M2RmMTQwYWY1MGU0NmNlYTIzNWEwMDVlNzU2MzQxOCA9ICQoYDxkaXYgaWQ9Imh0bWxfNjNkZjE0MGFmNTBlNDZjZWEyMzVhMDA1ZTc1NjM0MTgiIHN0eWxlPSJ3aWR0aDogMTAwLjAlOyBoZWlnaHQ6IDEwMC4wJTsiPiBDbHVzdGVyIDI8L2Rpdj5gKVswXTsKICAgICAgICAgICAgcG9wdXBfM2Q2ZmI0NzkyMDA2NDg3NmEzMTIyMzA4NzExNDRkYWEuc2V0Q29udGVudChodG1sXzYzZGYxNDBhZjUwZTQ2Y2VhMjM1YTAwNWU3NTYzNDE4KTsKICAgICAgICAKCiAgICAgICAgY2lyY2xlX21hcmtlcl8xODRkYWFlMWVmZjk0MWU3OWQ3ZGE2NGEwNGRlYjcyYi5iaW5kUG9wdXAocG9wdXBfM2Q2ZmI0NzkyMDA2NDg3NmEzMTIyMzA4NzExNDRkYWEpCiAgICAgICAgOwoKICAgICAgICAKICAgIAogICAgCiAgICAgICAgICAgIHZhciBjaXJjbGVfbWFya2VyX2Y5MjhlNjA2YTI0OTQ2MTVhZmNlNTQ5ZDc3YzA2NGQ5ID0gTC5jaXJjbGVNYXJrZXIoCiAgICAgICAgICAgICAgICBbNDMuNjU3MTYxOCwgLTc5LjM3ODkzNzA5OTk5OTk5XSwKICAgICAgICAgICAgICAgIHsiYnViYmxpbmdNb3VzZUV2ZW50cyI6IHRydWUsICJjb2xvciI6ICIjMzM4OGZmIiwgImRhc2hBcnJheSI6IG51bGwsICJkYXNoT2Zmc2V0IjogbnVsbCwgImZpbGwiOiB0cnVlLCAiZmlsbENvbG9yIjogIiMxOTk2ZjMiLCAiZmlsbE9wYWNpdHkiOiAwLjcsICJmaWxsUnVsZSI6ICJldmVub2RkIiwgImxpbmVDYXAiOiAicm91bmQiLCAibGluZUpvaW4iOiAicm91bmQiLCAib3BhY2l0eSI6IDEuMCwgInJhZGl1cyI6IDUsICJzdHJva2UiOiB0cnVlLCAid2VpZ2h0IjogM30KICAgICAgICAgICAgKS5hZGRUbyhtYXBfYWUyYzYyNTk4ZDc1NDhjOGI2NTE0ODVjMzliMjRkYjMpOwogICAgICAgIAogICAgCiAgICAgICAgdmFyIHBvcHVwX2RiNjg1YzMwNTE5MDQ1YWI5YWEwMTY5ZjdjMjc2M2ViID0gTC5wb3B1cCh7Im1heFdpZHRoIjogIjEwMCUifSk7CgogICAgICAgIAogICAgICAgICAgICB2YXIgaHRtbF9mOWE3MDlhN2MzMDI0ZjU3OTg5NWU3NTJmYTFlNmQzYSA9ICQoYDxkaXYgaWQ9Imh0bWxfZjlhNzA5YTdjMzAyNGY1Nzk4OTVlNzUyZmExZTZkM2EiIHN0eWxlPSJ3aWR0aDogMTAwLjAlOyBoZWlnaHQ6IDEwMC4wJTsiPiBDbHVzdGVyIDI8L2Rpdj5gKVswXTsKICAgICAgICAgICAgcG9wdXBfZGI2ODVjMzA1MTkwNDVhYjlhYTAxNjlmN2MyNzYzZWIuc2V0Q29udGVudChodG1sX2Y5YTcwOWE3YzMwMjRmNTc5ODk1ZTc1MmZhMWU2ZDNhKTsKICAgICAgICAKCiAgICAgICAgY2lyY2xlX21hcmtlcl9mOTI4ZTYwNmEyNDk0NjE1YWZjZTU0OWQ3N2MwNjRkOS5iaW5kUG9wdXAocG9wdXBfZGI2ODVjMzA1MTkwNDVhYjlhYTAxNjlmN2MyNzYzZWIpCiAgICAgICAgOwoKICAgICAgICAKICAgIAogICAgCiAgICAgICAgICAgIHZhciBjaXJjbGVfbWFya2VyXzQzMzQyMjAwZjllNTQ3YWY5NmExYTY4NTFlMWU5M2VhID0gTC5jaXJjbGVNYXJrZXIoCiAgICAgICAgICAgICAgICBbNDMuNjUxNDkzOSwgLTc5LjM3NTQxNzldLAogICAgICAgICAgICAgICAgeyJidWJibGluZ01vdXNlRXZlbnRzIjogdHJ1ZSwgImNvbG9yIjogIiMzMzg4ZmYiLCAiZGFzaEFycmF5IjogbnVsbCwgImRhc2hPZmZzZXQiOiBudWxsLCAiZmlsbCI6IHRydWUsICJmaWxsQ29sb3IiOiAiIzE5OTZmMyIsICJmaWxsT3BhY2l0eSI6IDAuNywgImZpbGxSdWxlIjogImV2ZW5vZGQiLCAibGluZUNhcCI6ICJyb3VuZCIsICJsaW5lSm9pbiI6ICJyb3VuZCIsICJvcGFjaXR5IjogMS4wLCAicmFkaXVzIjogNSwgInN0cm9rZSI6IHRydWUsICJ3ZWlnaHQiOiAzfQogICAgICAgICAgICApLmFkZFRvKG1hcF9hZTJjNjI1OThkNzU0OGM4YjY1MTQ4NWMzOWIyNGRiMyk7CiAgICAgICAgCiAgICAKICAgICAgICB2YXIgcG9wdXBfNWExODExYzBjNTYwNGU0Njk0Nzg1ZDBkMTRiYmViMGQgPSBMLnBvcHVwKHsibWF4V2lkdGgiOiAiMTAwJSJ9KTsKCiAgICAgICAgCiAgICAgICAgICAgIHZhciBodG1sX2NiMzdjNmVkOTFhMTQ4NmE5ZmZlYzllMDFlOGY2NTY4ID0gJChgPGRpdiBpZD0iaHRtbF9jYjM3YzZlZDkxYTE0ODZhOWZmZWM5ZTAxZThmNjU2OCIgc3R5bGU9IndpZHRoOiAxMDAuMCU7IGhlaWdodDogMTAwLjAlOyI+IENsdXN0ZXIgMjwvZGl2PmApWzBdOwogICAgICAgICAgICBwb3B1cF81YTE4MTFjMGM1NjA0ZTQ2OTQ3ODVkMGQxNGJiZWIwZC5zZXRDb250ZW50KGh0bWxfY2IzN2M2ZWQ5MWExNDg2YTlmZmVjOWUwMWU4ZjY1NjgpOwogICAgICAgIAoKICAgICAgICBjaXJjbGVfbWFya2VyXzQzMzQyMjAwZjllNTQ3YWY5NmExYTY4NTFlMWU5M2VhLmJpbmRQb3B1cChwb3B1cF81YTE4MTFjMGM1NjA0ZTQ2OTQ3ODVkMGQxNGJiZWIwZCkKICAgICAgICA7CgogICAgICAgIAogICAgCiAgICAKICAgICAgICAgICAgdmFyIGNpcmNsZV9tYXJrZXJfMmQ3NGRmMzUzNDczNGMzZWJjOGU4YzdmZTZjYTdmNDggPSBMLmNpcmNsZU1hcmtlcigKICAgICAgICAgICAgICAgIFs0My42NzYzNTczOTk5OTk5OSwgLTc5LjI5MzAzMTJdLAogICAgICAgICAgICAgICAgeyJidWJibGluZ01vdXNlRXZlbnRzIjogdHJ1ZSwgImNvbG9yIjogIiMzMzg4ZmYiLCAiZGFzaEFycmF5IjogbnVsbCwgImRhc2hPZmZzZXQiOiBudWxsLCAiZmlsbCI6IHRydWUsICJmaWxsQ29sb3IiOiAiI2IyZjM5NiIsICJmaWxsT3BhY2l0eSI6IDAuNywgImZpbGxSdWxlIjogImV2ZW5vZGQiLCAibGluZUNhcCI6ICJyb3VuZCIsICJsaW5lSm9pbiI6ICJyb3VuZCIsICJvcGFjaXR5IjogMS4wLCAicmFkaXVzIjogNSwgInN0cm9rZSI6IHRydWUsICJ3ZWlnaHQiOiAzfQogICAgICAgICAgICApLmFkZFRvKG1hcF9hZTJjNjI1OThkNzU0OGM4YjY1MTQ4NWMzOWIyNGRiMyk7CiAgICAgICAgCiAgICAKICAgICAgICB2YXIgcG9wdXBfNDc1N2QxYThhNjhmNGNhYTkwOTEwZDZhY2FkYzU2N2QgPSBMLnBvcHVwKHsibWF4V2lkdGgiOiAiMTAwJSJ9KTsKCiAgICAgICAgCiAgICAgICAgICAgIHZhciBodG1sX2IwNTFlODZkOTNmZjQyM2JhYTU4Y2NmOGI3ZWY0OGNkID0gJChgPGRpdiBpZD0iaHRtbF9iMDUxZTg2ZDkzZmY0MjNiYWE1OGNjZjhiN2VmNDhjZCIgc3R5bGU9IndpZHRoOiAxMDAuMCU7IGhlaWdodDogMTAwLjAlOyI+IENsdXN0ZXIgNDwvZGl2PmApWzBdOwogICAgICAgICAgICBwb3B1cF80NzU3ZDFhOGE2OGY0Y2FhOTA5MTBkNmFjYWRjNTY3ZC5zZXRDb250ZW50KGh0bWxfYjA1MWU4NmQ5M2ZmNDIzYmFhNThjY2Y4YjdlZjQ4Y2QpOwogICAgICAgIAoKICAgICAgICBjaXJjbGVfbWFya2VyXzJkNzRkZjM1MzQ3MzRjM2ViYzhlOGM3ZmU2Y2E3ZjQ4LmJpbmRQb3B1cChwb3B1cF80NzU3ZDFhOGE2OGY0Y2FhOTA5MTBkNmFjYWRjNTY3ZCkKICAgICAgICA7CgogICAgICAgIAogICAgCiAgICAKICAgICAgICAgICAgdmFyIGNpcmNsZV9tYXJrZXJfNTg1NjM0NjE1YzA0NDlkMzkzM2FlZjg5OWNjN2E0MjkgPSBMLmNpcmNsZU1hcmtlcigKICAgICAgICAgICAgICAgIFs0My42NDQ3NzA3OTk5OTk5OTYsIC03OS4zNzMzMDY0XSwKICAgICAgICAgICAgICAgIHsiYnViYmxpbmdNb3VzZUV2ZW50cyI6IHRydWUsICJjb2xvciI6ICIjMzM4OGZmIiwgImRhc2hBcnJheSI6IG51bGwsICJkYXNoT2Zmc2V0IjogbnVsbCwgImZpbGwiOiB0cnVlLCAiZmlsbENvbG9yIjogIiMxOTk2ZjMiLCAiZmlsbE9wYWNpdHkiOiAwLjcsICJmaWxsUnVsZSI6ICJldmVub2RkIiwgImxpbmVDYXAiOiAicm91bmQiLCAibGluZUpvaW4iOiAicm91bmQiLCAib3BhY2l0eSI6IDEuMCwgInJhZGl1cyI6IDUsICJzdHJva2UiOiB0cnVlLCAid2VpZ2h0IjogM30KICAgICAgICAgICAgKS5hZGRUbyhtYXBfYWUyYzYyNTk4ZDc1NDhjOGI2NTE0ODVjMzliMjRkYjMpOwogICAgICAgIAogICAgCiAgICAgICAgdmFyIHBvcHVwX2Y1ODIwMjNhYTI5YzRlY2RiM2I3Y2Y5MTA3ZmY0ZDYzID0gTC5wb3B1cCh7Im1heFdpZHRoIjogIjEwMCUifSk7CgogICAgICAgIAogICAgICAgICAgICB2YXIgaHRtbF8wYWUzMWU2Y2I4NGU0YTQ2YjVhZjg3ZWRjZWU1MTljMSA9ICQoYDxkaXYgaWQ9Imh0bWxfMGFlMzFlNmNiODRlNGE0NmI1YWY4N2VkY2VlNTE5YzEiIHN0eWxlPSJ3aWR0aDogMTAwLjAlOyBoZWlnaHQ6IDEwMC4wJTsiPiBDbHVzdGVyIDI8L2Rpdj5gKVswXTsKICAgICAgICAgICAgcG9wdXBfZjU4MjAyM2FhMjljNGVjZGIzYjdjZjkxMDdmZjRkNjMuc2V0Q29udGVudChodG1sXzBhZTMxZTZjYjg0ZTRhNDZiNWFmODdlZGNlZTUxOWMxKTsKICAgICAgICAKCiAgICAgICAgY2lyY2xlX21hcmtlcl81ODU2MzQ2MTVjMDQ0OWQzOTMzYWVmODk5Y2M3YTQyOS5iaW5kUG9wdXAocG9wdXBfZjU4MjAyM2FhMjljNGVjZGIzYjdjZjkxMDdmZjRkNjMpCiAgICAgICAgOwoKICAgICAgICAKICAgIAogICAgCiAgICAgICAgICAgIHZhciBjaXJjbGVfbWFya2VyX2U2NTJkOGJhNTRlYzRmNTQ5N2JjMzA2MjZmNzI2MzE5ID0gTC5jaXJjbGVNYXJrZXIoCiAgICAgICAgICAgICAgICBbNDMuNjU3OTUyNCwgLTc5LjM4NzM4MjZdLAogICAgICAgICAgICAgICAgeyJidWJibGluZ01vdXNlRXZlbnRzIjogdHJ1ZSwgImNvbG9yIjogIiMzMzg4ZmYiLCAiZGFzaEFycmF5IjogbnVsbCwgImRhc2hPZmZzZXQiOiBudWxsLCAiZmlsbCI6IHRydWUsICJmaWxsQ29sb3IiOiAiIzE5OTZmMyIsICJmaWxsT3BhY2l0eSI6IDAuNywgImZpbGxSdWxlIjogImV2ZW5vZGQiLCAibGluZUNhcCI6ICJyb3VuZCIsICJsaW5lSm9pbiI6ICJyb3VuZCIsICJvcGFjaXR5IjogMS4wLCAicmFkaXVzIjogNSwgInN0cm9rZSI6IHRydWUsICJ3ZWlnaHQiOiAzfQogICAgICAgICAgICApLmFkZFRvKG1hcF9hZTJjNjI1OThkNzU0OGM4YjY1MTQ4NWMzOWIyNGRiMyk7CiAgICAgICAgCiAgICAKICAgICAgICB2YXIgcG9wdXBfZWM1MTI4OTkyM2E4NGFhYmI1NTllYjIyZjhkZGE3OGIgPSBMLnBvcHVwKHsibWF4V2lkdGgiOiAiMTAwJSJ9KTsKCiAgICAgICAgCiAgICAgICAgICAgIHZhciBodG1sXzYwMDRjOWY4NGMxMjQ5YTNiNDZmZDFjYjQ2ZWMwNmZjID0gJChgPGRpdiBpZD0iaHRtbF82MDA0YzlmODRjMTI0OWEzYjQ2ZmQxY2I0NmVjMDZmYyIgc3R5bGU9IndpZHRoOiAxMDAuMCU7IGhlaWdodDogMTAwLjAlOyI+IENsdXN0ZXIgMjwvZGl2PmApWzBdOwogICAgICAgICAgICBwb3B1cF9lYzUxMjg5OTIzYTg0YWFiYjU1OWViMjJmOGRkYTc4Yi5zZXRDb250ZW50KGh0bWxfNjAwNGM5Zjg0YzEyNDlhM2I0NmZkMWNiNDZlYzA2ZmMpOwogICAgICAgIAoKICAgICAgICBjaXJjbGVfbWFya2VyX2U2NTJkOGJhNTRlYzRmNTQ5N2JjMzA2MjZmNzI2MzE5LmJpbmRQb3B1cChwb3B1cF9lYzUxMjg5OTIzYTg0YWFiYjU1OWViMjJmOGRkYTc4YikKICAgICAgICA7CgogICAgICAgIAogICAgCiAgICAKICAgICAgICAgICAgdmFyIGNpcmNsZV9tYXJrZXJfNWY5MmRjMzJjNDYyNDkzMGJiYzNmYmQzYTM4MWIzYTggPSBMLmNpcmNsZU1hcmtlcigKICAgICAgICAgICAgICAgIFs0My42Njk1NDIsIC03OS40MjI1NjM3XSwKICAgICAgICAgICAgICAgIHsiYnViYmxpbmdNb3VzZUV2ZW50cyI6IHRydWUsICJjb2xvciI6ICIjMzM4OGZmIiwgImRhc2hBcnJheSI6IG51bGwsICJkYXNoT2Zmc2V0IjogbnVsbCwgImZpbGwiOiB0cnVlLCAiZmlsbENvbG9yIjogIiNmZjk2NGYiLCAiZmlsbE9wYWNpdHkiOiAwLjcsICJmaWxsUnVsZSI6ICJldmVub2RkIiwgImxpbmVDYXAiOiAicm91bmQiLCAibGluZUpvaW4iOiAicm91bmQiLCAib3BhY2l0eSI6IDEuMCwgInJhZGl1cyI6IDUsICJzdHJva2UiOiB0cnVlLCAid2VpZ2h0IjogM30KICAgICAgICAgICAgKS5hZGRUbyhtYXBfYWUyYzYyNTk4ZDc1NDhjOGI2NTE0ODVjMzliMjRkYjMpOwogICAgICAgIAogICAgCiAgICAgICAgdmFyIHBvcHVwXzA1NjcxM2M5Yjg2ZjQ4MGZhM2ZhMjQxYzlmNmJiNDgzID0gTC5wb3B1cCh7Im1heFdpZHRoIjogIjEwMCUifSk7CgogICAgICAgIAogICAgICAgICAgICB2YXIgaHRtbF9jNzUyZTczMDM2YTA0Y2NlYjY1ODVlY2NlNDE4ZWMxYiA9ICQoYDxkaXYgaWQ9Imh0bWxfYzc1MmU3MzAzNmEwNGNjZWI2NTg1ZWNjZTQxOGVjMWIiIHN0eWxlPSJ3aWR0aDogMTAwLjAlOyBoZWlnaHQ6IDEwMC4wJTsiPiBDbHVzdGVyIDU8L2Rpdj5gKVswXTsKICAgICAgICAgICAgcG9wdXBfMDU2NzEzYzliODZmNDgwZmEzZmEyNDFjOWY2YmI0ODMuc2V0Q29udGVudChodG1sX2M3NTJlNzMwMzZhMDRjY2ViNjU4NWVjY2U0MThlYzFiKTsKICAgICAgICAKCiAgICAgICAgY2lyY2xlX21hcmtlcl81ZjkyZGMzMmM0NjI0OTMwYmJjM2ZiZDNhMzgxYjNhOC5iaW5kUG9wdXAocG9wdXBfMDU2NzEzYzliODZmNDgwZmEzZmEyNDFjOWY2YmI0ODMpCiAgICAgICAgOwoKICAgICAgICAKICAgIAogICAgCiAgICAgICAgICAgIHZhciBjaXJjbGVfbWFya2VyX2RjOTQ0YWE1Mjk0OTQ0NjU4ZDYxMTk0MWE1MmU4ZTZlID0gTC5jaXJjbGVNYXJrZXIoCiAgICAgICAgICAgICAgICBbNDMuNjUwNTcxMjAwMDAwMDEsIC03OS4zODQ1Njc1XSwKICAgICAgICAgICAgICAgIHsiYnViYmxpbmdNb3VzZUV2ZW50cyI6IHRydWUsICJjb2xvciI6ICIjMzM4OGZmIiwgImRhc2hBcnJheSI6IG51bGwsICJkYXNoT2Zmc2V0IjogbnVsbCwgImZpbGwiOiB0cnVlLCAiZmlsbENvbG9yIjogIiMxOTk2ZjMiLCAiZmlsbE9wYWNpdHkiOiAwLjcsICJmaWxsUnVsZSI6ICJldmVub2RkIiwgImxpbmVDYXAiOiAicm91bmQiLCAibGluZUpvaW4iOiAicm91bmQiLCAib3BhY2l0eSI6IDEuMCwgInJhZGl1cyI6IDUsICJzdHJva2UiOiB0cnVlLCAid2VpZ2h0IjogM30KICAgICAgICAgICAgKS5hZGRUbyhtYXBfYWUyYzYyNTk4ZDc1NDhjOGI2NTE0ODVjMzliMjRkYjMpOwogICAgICAgIAogICAgCiAgICAgICAgdmFyIHBvcHVwX2Q2YjRmNzQ1MDc3MjRlZmJiYzM5YTAxZTY3ZmVkZmQ5ID0gTC5wb3B1cCh7Im1heFdpZHRoIjogIjEwMCUifSk7CgogICAgICAgIAogICAgICAgICAgICB2YXIgaHRtbF85NTY0OTQ4ZmNjMjI0Yzg3OGVhMjczMWMwMGY2M2IzMiA9ICQoYDxkaXYgaWQ9Imh0bWxfOTU2NDk0OGZjYzIyNGM4NzhlYTI3MzFjMDBmNjNiMzIiIHN0eWxlPSJ3aWR0aDogMTAwLjAlOyBoZWlnaHQ6IDEwMC4wJTsiPiBDbHVzdGVyIDI8L2Rpdj5gKVswXTsKICAgICAgICAgICAgcG9wdXBfZDZiNGY3NDUwNzcyNGVmYmJjMzlhMDFlNjdmZWRmZDkuc2V0Q29udGVudChodG1sXzk1NjQ5NDhmY2MyMjRjODc4ZWEyNzMxYzAwZjYzYjMyKTsKICAgICAgICAKCiAgICAgICAgY2lyY2xlX21hcmtlcl9kYzk0NGFhNTI5NDk0NDY1OGQ2MTE5NDFhNTJlOGU2ZS5iaW5kUG9wdXAocG9wdXBfZDZiNGY3NDUwNzcyNGVmYmJjMzlhMDFlNjdmZWRmZDkpCiAgICAgICAgOwoKICAgICAgICAKICAgIAogICAgCiAgICAgICAgICAgIHZhciBjaXJjbGVfbWFya2VyX2VhNWU0M2RhNzY4ZTQzMmZiZDk5ZjU1MTg1ZmM0Y2IyID0gTC5jaXJjbGVNYXJrZXIoCiAgICAgICAgICAgICAgICBbNDMuNjY5MDA1MTAwMDAwMDEsIC03OS40NDIyNTkzXSwKICAgICAgICAgICAgICAgIHsiYnViYmxpbmdNb3VzZUV2ZW50cyI6IHRydWUsICJjb2xvciI6ICIjMzM4OGZmIiwgImRhc2hBcnJheSI6IG51bGwsICJkYXNoT2Zmc2V0IjogbnVsbCwgImZpbGwiOiB0cnVlLCAiZmlsbENvbG9yIjogIiM0ZGYzY2UiLCAiZmlsbE9wYWNpdHkiOiAwLjcsICJmaWxsUnVsZSI6ICJldmVub2RkIiwgImxpbmVDYXAiOiAicm91bmQiLCAibGluZUpvaW4iOiAicm91bmQiLCAib3BhY2l0eSI6IDEuMCwgInJhZGl1cyI6IDUsICJzdHJva2UiOiB0cnVlLCAid2VpZ2h0IjogM30KICAgICAgICAgICAgKS5hZGRUbyhtYXBfYWUyYzYyNTk4ZDc1NDhjOGI2NTE0ODVjMzliMjRkYjMpOwogICAgICAgIAogICAgCiAgICAgICAgdmFyIHBvcHVwXzhjMDUzMTQ5ZTU1MjQwODVhOTZmMjkxMGEwYTdhMzNhID0gTC5wb3B1cCh7Im1heFdpZHRoIjogIjEwMCUifSk7CgogICAgICAgIAogICAgICAgICAgICB2YXIgaHRtbF82ZDA1NTA1NzExNDY0ZDIwYmI3MjE5ZmQ4YTA3OTgzOSA9ICQoYDxkaXYgaWQ9Imh0bWxfNmQwNTUwNTcxMTQ2NGQyMGJiNzIxOWZkOGEwNzk4MzkiIHN0eWxlPSJ3aWR0aDogMTAwLjAlOyBoZWlnaHQ6IDEwMC4wJTsiPiBDbHVzdGVyIDM8L2Rpdj5gKVswXTsKICAgICAgICAgICAgcG9wdXBfOGMwNTMxNDllNTUyNDA4NWE5NmYyOTEwYTBhN2EzM2Euc2V0Q29udGVudChodG1sXzZkMDU1MDU3MTE0NjRkMjBiYjcyMTlmZDhhMDc5ODM5KTsKICAgICAgICAKCiAgICAgICAgY2lyY2xlX21hcmtlcl9lYTVlNDNkYTc2OGU0MzJmYmQ5OWY1NTE4NWZjNGNiMi5iaW5kUG9wdXAocG9wdXBfOGMwNTMxNDllNTUyNDA4NWE5NmYyOTEwYTBhN2EzM2EpCiAgICAgICAgOwoKICAgICAgICAKICAgIAogICAgCiAgICAgICAgICAgIHZhciBjaXJjbGVfbWFya2VyXzdlZjNmNmNjOTQ3YzQ4NDg4NzNhNzYzMmNmMTQ4Zjc4ID0gTC5jaXJjbGVNYXJrZXIoCiAgICAgICAgICAgICAgICBbNDMuNjQwODE1NywgLTc5LjM4MTc1MjI5OTk5OTk5XSwKICAgICAgICAgICAgICAgIHsiYnViYmxpbmdNb3VzZUV2ZW50cyI6IHRydWUsICJjb2xvciI6ICIjMzM4OGZmIiwgImRhc2hBcnJheSI6IG51bGwsICJkYXNoT2Zmc2V0IjogbnVsbCwgImZpbGwiOiB0cnVlLCAiZmlsbENvbG9yIjogIiMxOTk2ZjMiLCAiZmlsbE9wYWNpdHkiOiAwLjcsICJmaWxsUnVsZSI6ICJldmVub2RkIiwgImxpbmVDYXAiOiAicm91bmQiLCAibGluZUpvaW4iOiAicm91bmQiLCAib3BhY2l0eSI6IDEuMCwgInJhZGl1cyI6IDUsICJzdHJva2UiOiB0cnVlLCAid2VpZ2h0IjogM30KICAgICAgICAgICAgKS5hZGRUbyhtYXBfYWUyYzYyNTk4ZDc1NDhjOGI2NTE0ODVjMzliMjRkYjMpOwogICAgICAgIAogICAgCiAgICAgICAgdmFyIHBvcHVwXzg2ZDQwMTBiYmZkMzQxZWM4YTZhMGRlYWEzNWRmZThjID0gTC5wb3B1cCh7Im1heFdpZHRoIjogIjEwMCUifSk7CgogICAgICAgIAogICAgICAgICAgICB2YXIgaHRtbF8zMDNjYTZlMzhlZDY0YmZjYTJkMmJhYmM3MDZiNDY1YSA9ICQoYDxkaXYgaWQ9Imh0bWxfMzAzY2E2ZTM4ZWQ2NGJmY2EyZDJiYWJjNzA2YjQ2NWEiIHN0eWxlPSJ3aWR0aDogMTAwLjAlOyBoZWlnaHQ6IDEwMC4wJTsiPiBDbHVzdGVyIDI8L2Rpdj5gKVswXTsKICAgICAgICAgICAgcG9wdXBfODZkNDAxMGJiZmQzNDFlYzhhNmEwZGVhYTM1ZGZlOGMuc2V0Q29udGVudChodG1sXzMwM2NhNmUzOGVkNjRiZmNhMmQyYmFiYzcwNmI0NjVhKTsKICAgICAgICAKCiAgICAgICAgY2lyY2xlX21hcmtlcl83ZWYzZjZjYzk0N2M0ODQ4ODczYTc2MzJjZjE0OGY3OC5iaW5kUG9wdXAocG9wdXBfODZkNDAxMGJiZmQzNDFlYzhhNmEwZGVhYTM1ZGZlOGMpCiAgICAgICAgOwoKICAgICAgICAKICAgIAogICAgCiAgICAgICAgICAgIHZhciBjaXJjbGVfbWFya2VyX2UwNWE3NTliYzg3NzRiNTM5M2Q4Y2VhNDBmNjNmNmI1ID0gTC5jaXJjbGVNYXJrZXIoCiAgICAgICAgICAgICAgICBbNDMuNjQ3OTI2NzAwMDAwMDA2LCAtNzkuNDE5NzQ5N10sCiAgICAgICAgICAgICAgICB7ImJ1YmJsaW5nTW91c2VFdmVudHMiOiB0cnVlLCAiY29sb3IiOiAiIzMzODhmZiIsICJkYXNoQXJyYXkiOiBudWxsLCAiZGFzaE9mZnNldCI6IG51bGwsICJmaWxsIjogdHJ1ZSwgImZpbGxDb2xvciI6ICIjZmY5NjRmIiwgImZpbGxPcGFjaXR5IjogMC43LCAiZmlsbFJ1bGUiOiAiZXZlbm9kZCIsICJsaW5lQ2FwIjogInJvdW5kIiwgImxpbmVKb2luIjogInJvdW5kIiwgIm9wYWNpdHkiOiAxLjAsICJyYWRpdXMiOiA1LCAic3Ryb2tlIjogdHJ1ZSwgIndlaWdodCI6IDN9CiAgICAgICAgICAgICkuYWRkVG8obWFwX2FlMmM2MjU5OGQ3NTQ4YzhiNjUxNDg1YzM5YjI0ZGIzKTsKICAgICAgICAKICAgIAogICAgICAgIHZhciBwb3B1cF9iNzMyOTkwNzVkNzM0NTQ2ODEyZTE1ODU2OGM1M2FkZiA9IEwucG9wdXAoeyJtYXhXaWR0aCI6ICIxMDAlIn0pOwoKICAgICAgICAKICAgICAgICAgICAgdmFyIGh0bWxfYjBkYWI3ZWI2Y2VkNDZkZGIzMGUzMDdkYThlYTM5ZTggPSAkKGA8ZGl2IGlkPSJodG1sX2IwZGFiN2ViNmNlZDQ2ZGRiMzBlMzA3ZGE4ZWEzOWU4IiBzdHlsZT0id2lkdGg6IDEwMC4wJTsgaGVpZ2h0OiAxMDAuMCU7Ij4gQ2x1c3RlciA1PC9kaXY+YClbMF07CiAgICAgICAgICAgIHBvcHVwX2I3MzI5OTA3NWQ3MzQ1NDY4MTJlMTU4NTY4YzUzYWRmLnNldENvbnRlbnQoaHRtbF9iMGRhYjdlYjZjZWQ0NmRkYjMwZTMwN2RhOGVhMzllOCk7CiAgICAgICAgCgogICAgICAgIGNpcmNsZV9tYXJrZXJfZTA1YTc1OWJjODc3NGI1MzkzZDhjZWE0MGY2M2Y2YjUuYmluZFBvcHVwKHBvcHVwX2I3MzI5OTA3NWQ3MzQ1NDY4MTJlMTU4NTY4YzUzYWRmKQogICAgICAgIDsKCiAgICAgICAgCiAgICAKICAgIAogICAgICAgICAgICB2YXIgY2lyY2xlX21hcmtlcl8yYzEyYTZiYWU4Mjk0ZWQ3OTAxYzQxY2ZhODNkZThmNSA9IEwuY2lyY2xlTWFya2VyKAogICAgICAgICAgICAgICAgWzQzLjY3OTU1NzEsIC03OS4zNTIxODhdLAogICAgICAgICAgICAgICAgeyJidWJibGluZ01vdXNlRXZlbnRzIjogdHJ1ZSwgImNvbG9yIjogIiMzMzg4ZmYiLCAiZGFzaEFycmF5IjogbnVsbCwgImRhc2hPZmZzZXQiOiBudWxsLCAiZmlsbCI6IHRydWUsICJmaWxsQ29sb3IiOiAiI2ZmMDAwMCIsICJmaWxsT3BhY2l0eSI6IDAuNywgImZpbGxSdWxlIjogImV2ZW5vZGQiLCAibGluZUNhcCI6ICJyb3VuZCIsICJsaW5lSm9pbiI6ICJyb3VuZCIsICJvcGFjaXR5IjogMS4wLCAicmFkaXVzIjogNSwgInN0cm9rZSI6IHRydWUsICJ3ZWlnaHQiOiAzfQogICAgICAgICAgICApLmFkZFRvKG1hcF9hZTJjNjI1OThkNzU0OGM4YjY1MTQ4NWMzOWIyNGRiMyk7CiAgICAgICAgCiAgICAKICAgICAgICB2YXIgcG9wdXBfYWVhODI3ZDRjMDNiNDk4Njg1YjFkNDA0MjVjN2E0MjYgPSBMLnBvcHVwKHsibWF4V2lkdGgiOiAiMTAwJSJ9KTsKCiAgICAgICAgCiAgICAgICAgICAgIHZhciBodG1sXzI0NzhkZmJhMjljZTQ3OTU4YjI2ZWNkNDA5OGUzZTQ1ID0gJChgPGRpdiBpZD0iaHRtbF8yNDc4ZGZiYTI5Y2U0Nzk1OGIyNmVjZDQwOThlM2U0NSIgc3R5bGU9IndpZHRoOiAxMDAuMCU7IGhlaWdodDogMTAwLjAlOyI+IENsdXN0ZXIgMDwvZGl2PmApWzBdOwogICAgICAgICAgICBwb3B1cF9hZWE4MjdkNGMwM2I0OTg2ODViMWQ0MDQyNWM3YTQyNi5zZXRDb250ZW50KGh0bWxfMjQ3OGRmYmEyOWNlNDc5NThiMjZlY2Q0MDk4ZTNlNDUpOwogICAgICAgIAoKICAgICAgICBjaXJjbGVfbWFya2VyXzJjMTJhNmJhZTgyOTRlZDc5MDFjNDFjZmE4M2RlOGY1LmJpbmRQb3B1cChwb3B1cF9hZWE4MjdkNGMwM2I0OTg2ODViMWQ0MDQyNWM3YTQyNikKICAgICAgICA7CgogICAgICAgIAogICAgCiAgICAKICAgICAgICAgICAgdmFyIGNpcmNsZV9tYXJrZXJfYjBiOWFlNGFiOGMxNDU2NmI5NTcwYjk0MGZlODExNzYgPSBMLmNpcmNsZU1hcmtlcigKICAgICAgICAgICAgICAgIFs0My42NDcxNzY4LCAtNzkuMzgxNTc2NDAwMDAwMDFdLAogICAgICAgICAgICAgICAgeyJidWJibGluZ01vdXNlRXZlbnRzIjogdHJ1ZSwgImNvbG9yIjogIiMzMzg4ZmYiLCAiZGFzaEFycmF5IjogbnVsbCwgImRhc2hPZmZzZXQiOiBudWxsLCAiZmlsbCI6IHRydWUsICJmaWxsQ29sb3IiOiAiIzE5OTZmMyIsICJmaWxsT3BhY2l0eSI6IDAuNywgImZpbGxSdWxlIjogImV2ZW5vZGQiLCAibGluZUNhcCI6ICJyb3VuZCIsICJsaW5lSm9pbiI6ICJyb3VuZCIsICJvcGFjaXR5IjogMS4wLCAicmFkaXVzIjogNSwgInN0cm9rZSI6IHRydWUsICJ3ZWlnaHQiOiAzfQogICAgICAgICAgICApLmFkZFRvKG1hcF9hZTJjNjI1OThkNzU0OGM4YjY1MTQ4NWMzOWIyNGRiMyk7CiAgICAgICAgCiAgICAKICAgICAgICB2YXIgcG9wdXBfM2UzNmJiNTgwMDczNDZiZTgyOWEzNWMzMDVlM2JkNWEgPSBMLnBvcHVwKHsibWF4V2lkdGgiOiAiMTAwJSJ9KTsKCiAgICAgICAgCiAgICAgICAgICAgIHZhciBodG1sX2Y0ZjhhMDYxYmEwNDQ0YzY5YjUxZDcwYTU5ZGRkOTM1ID0gJChgPGRpdiBpZD0iaHRtbF9mNGY4YTA2MWJhMDQ0NGM2OWI1MWQ3MGE1OWRkZDkzNSIgc3R5bGU9IndpZHRoOiAxMDAuMCU7IGhlaWdodDogMTAwLjAlOyI+IENsdXN0ZXIgMjwvZGl2PmApWzBdOwogICAgICAgICAgICBwb3B1cF8zZTM2YmI1ODAwNzM0NmJlODI5YTM1YzMwNWUzYmQ1YS5zZXRDb250ZW50KGh0bWxfZjRmOGEwNjFiYTA0NDRjNjliNTFkNzBhNTlkZGQ5MzUpOwogICAgICAgIAoKICAgICAgICBjaXJjbGVfbWFya2VyX2IwYjlhZTRhYjhjMTQ1NjZiOTU3MGI5NDBmZTgxMTc2LmJpbmRQb3B1cChwb3B1cF8zZTM2YmI1ODAwNzM0NmJlODI5YTM1YzMwNWUzYmQ1YSkKICAgICAgICA7CgogICAgICAgIAogICAgCiAgICAKICAgICAgICAgICAgdmFyIGNpcmNsZV9tYXJrZXJfODM4OTlhOTIyMTY3NGQ1Yjg2MzYxY2RkMzViZDA4MjIgPSBMLmNpcmNsZU1hcmtlcigKICAgICAgICAgICAgICAgIFs0My42MzY4NDcyLCAtNzkuNDI4MTkxNDAwMDAwMDJdLAogICAgICAgICAgICAgICAgeyJidWJibGluZ01vdXNlRXZlbnRzIjogdHJ1ZSwgImNvbG9yIjogIiMzMzg4ZmYiLCAiZGFzaEFycmF5IjogbnVsbCwgImRhc2hPZmZzZXQiOiBudWxsLCAiZmlsbCI6IHRydWUsICJmaWxsQ29sb3IiOiAiI2ZmOTY0ZiIsICJmaWxsT3BhY2l0eSI6IDAuNywgImZpbGxSdWxlIjogImV2ZW5vZGQiLCAibGluZUNhcCI6ICJyb3VuZCIsICJsaW5lSm9pbiI6ICJyb3VuZCIsICJvcGFjaXR5IjogMS4wLCAicmFkaXVzIjogNSwgInN0cm9rZSI6IHRydWUsICJ3ZWlnaHQiOiAzfQogICAgICAgICAgICApLmFkZFRvKG1hcF9hZTJjNjI1OThkNzU0OGM4YjY1MTQ4NWMzOWIyNGRiMyk7CiAgICAgICAgCiAgICAKICAgICAgICB2YXIgcG9wdXBfNmU2ZDQ3MzZjNTRlNDcwYTg1N2M4ZDg0ZTRlOWNjYjEgPSBMLnBvcHVwKHsibWF4V2lkdGgiOiAiMTAwJSJ9KTsKCiAgICAgICAgCiAgICAgICAgICAgIHZhciBodG1sX2FlYmY4ZmQ5OWUyNTQ4OWI4YWY4YjEzZTU3OWNjMTE4ID0gJChgPGRpdiBpZD0iaHRtbF9hZWJmOGZkOTllMjU0ODliOGFmOGIxM2U1NzljYzExOCIgc3R5bGU9IndpZHRoOiAxMDAuMCU7IGhlaWdodDogMTAwLjAlOyI+IENsdXN0ZXIgNTwvZGl2PmApWzBdOwogICAgICAgICAgICBwb3B1cF82ZTZkNDczNmM1NGU0NzBhODU3YzhkODRlNGU5Y2NiMS5zZXRDb250ZW50KGh0bWxfYWViZjhmZDk5ZTI1NDg5YjhhZjhiMTNlNTc5Y2MxMTgpOwogICAgICAgIAoKICAgICAgICBjaXJjbGVfbWFya2VyXzgzODk5YTkyMjE2NzRkNWI4NjM2MWNkZDM1YmQwODIyLmJpbmRQb3B1cChwb3B1cF82ZTZkNDczNmM1NGU0NzBhODU3YzhkODRlNGU5Y2NiMSkKICAgICAgICA7CgogICAgICAgIAogICAgCiAgICAKICAgICAgICAgICAgdmFyIGNpcmNsZV9tYXJrZXJfOGE2ZDUyZjRkMjkyNGQ3YTgzZjU0ODFkM2I3YzgzMGEgPSBMLmNpcmNsZU1hcmtlcigKICAgICAgICAgICAgICAgIFs0My42Njg5OTg1LCAtNzkuMzE1NTcxNTk5OTk5OThdLAogICAgICAgICAgICAgICAgeyJidWJibGluZ01vdXNlRXZlbnRzIjogdHJ1ZSwgImNvbG9yIjogIiMzMzg4ZmYiLCAiZGFzaEFycmF5IjogbnVsbCwgImRhc2hPZmZzZXQiOiBudWxsLCAiZmlsbCI6IHRydWUsICJmaWxsQ29sb3IiOiAiI2IyZjM5NiIsICJmaWxsT3BhY2l0eSI6IDAuNywgImZpbGxSdWxlIjogImV2ZW5vZGQiLCAibGluZUNhcCI6ICJyb3VuZCIsICJsaW5lSm9pbiI6ICJyb3VuZCIsICJvcGFjaXR5IjogMS4wLCAicmFkaXVzIjogNSwgInN0cm9rZSI6IHRydWUsICJ3ZWlnaHQiOiAzfQogICAgICAgICAgICApLmFkZFRvKG1hcF9hZTJjNjI1OThkNzU0OGM4YjY1MTQ4NWMzOWIyNGRiMyk7CiAgICAgICAgCiAgICAKICAgICAgICB2YXIgcG9wdXBfZjQ2YWM5OGMwNGZjNGM3YWE4MjUzODI2YTA3Y2YxNjEgPSBMLnBvcHVwKHsibWF4V2lkdGgiOiAiMTAwJSJ9KTsKCiAgICAgICAgCiAgICAgICAgICAgIHZhciBodG1sXzljNDZlMWQ4NDFlMjQxNzA5YTdjOTM4N2E1MDdlYThiID0gJChgPGRpdiBpZD0iaHRtbF85YzQ2ZTFkODQxZTI0MTcwOWE3YzkzODdhNTA3ZWE4YiIgc3R5bGU9IndpZHRoOiAxMDAuMCU7IGhlaWdodDogMTAwLjAlOyI+IENsdXN0ZXIgNDwvZGl2PmApWzBdOwogICAgICAgICAgICBwb3B1cF9mNDZhYzk4YzA0ZmM0YzdhYTgyNTM4MjZhMDdjZjE2MS5zZXRDb250ZW50KGh0bWxfOWM0NmUxZDg0MWUyNDE3MDlhN2M5Mzg3YTUwN2VhOGIpOwogICAgICAgIAoKICAgICAgICBjaXJjbGVfbWFya2VyXzhhNmQ1MmY0ZDI5MjRkN2E4M2Y1NDgxZDNiN2M4MzBhLmJpbmRQb3B1cChwb3B1cF9mNDZhYzk4YzA0ZmM0YzdhYTgyNTM4MjZhMDdjZjE2MSkKICAgICAgICA7CgogICAgICAgIAogICAgCiAgICAKICAgICAgICAgICAgdmFyIGNpcmNsZV9tYXJrZXJfZDY3MGExMmI0OTg3NGU5N2IzMDJjMzdiMmY5YTAxMjcgPSBMLmNpcmNsZU1hcmtlcigKICAgICAgICAgICAgICAgIFs0My42NDgxOTg1LCAtNzkuMzc5ODE2OTAwMDAwMDFdLAogICAgICAgICAgICAgICAgeyJidWJibGluZ01vdXNlRXZlbnRzIjogdHJ1ZSwgImNvbG9yIjogIiMzMzg4ZmYiLCAiZGFzaEFycmF5IjogbnVsbCwgImRhc2hPZmZzZXQiOiBudWxsLCAiZmlsbCI6IHRydWUsICJmaWxsQ29sb3IiOiAiIzE5OTZmMyIsICJmaWxsT3BhY2l0eSI6IDAuNywgImZpbGxSdWxlIjogImV2ZW5vZGQiLCAibGluZUNhcCI6ICJyb3VuZCIsICJsaW5lSm9pbiI6ICJyb3VuZCIsICJvcGFjaXR5IjogMS4wLCAicmFkaXVzIjogNSwgInN0cm9rZSI6IHRydWUsICJ3ZWlnaHQiOiAzfQogICAgICAgICAgICApLmFkZFRvKG1hcF9hZTJjNjI1OThkNzU0OGM4YjY1MTQ4NWMzOWIyNGRiMyk7CiAgICAgICAgCiAgICAKICAgICAgICB2YXIgcG9wdXBfMzFlZTBjMmJhM2I4NDU0MTg5Y2RhYjgzNjQ0ZmI3M2MgPSBMLnBvcHVwKHsibWF4V2lkdGgiOiAiMTAwJSJ9KTsKCiAgICAgICAgCiAgICAgICAgICAgIHZhciBodG1sX2JjYWYwZWEzZjRkYzQ2OWFhNzRhOTk3ODc1MDEwNWE1ID0gJChgPGRpdiBpZD0iaHRtbF9iY2FmMGVhM2Y0ZGM0NjlhYTc0YTk5Nzg3NTAxMDVhNSIgc3R5bGU9IndpZHRoOiAxMDAuMCU7IGhlaWdodDogMTAwLjAlOyI+IENsdXN0ZXIgMjwvZGl2PmApWzBdOwogICAgICAgICAgICBwb3B1cF8zMWVlMGMyYmEzYjg0NTQxODljZGFiODM2NDRmYjczYy5zZXRDb250ZW50KGh0bWxfYmNhZjBlYTNmNGRjNDY5YWE3NGE5OTc4NzUwMTA1YTUpOwogICAgICAgIAoKICAgICAgICBjaXJjbGVfbWFya2VyX2Q2NzBhMTJiNDk4NzRlOTdiMzAyYzM3YjJmOWEwMTI3LmJpbmRQb3B1cChwb3B1cF8zMWVlMGMyYmEzYjg0NTQxODljZGFiODM2NDRmYjczYykKICAgICAgICA7CgogICAgICAgIAogICAgCiAgICAKICAgICAgICAgICAgdmFyIGNpcmNsZV9tYXJrZXJfMjE4ZGE3YTNjOTFlNDY2NWFlMzlhODgyMGVlNzE3NDYgPSBMLmNpcmNsZU1hcmtlcigKICAgICAgICAgICAgICAgIFs0My42NTk1MjU1LCAtNzkuMzQwOTIzXSwKICAgICAgICAgICAgICAgIHsiYnViYmxpbmdNb3VzZUV2ZW50cyI6IHRydWUsICJjb2xvciI6ICIjMzM4OGZmIiwgImRhc2hBcnJheSI6IG51bGwsICJkYXNoT2Zmc2V0IjogbnVsbCwgImZpbGwiOiB0cnVlLCAiZmlsbENvbG9yIjogIiNmZjAwMDAiLCAiZmlsbE9wYWNpdHkiOiAwLjcsICJmaWxsUnVsZSI6ICJldmVub2RkIiwgImxpbmVDYXAiOiAicm91bmQiLCAibGluZUpvaW4iOiAicm91bmQiLCAib3BhY2l0eSI6IDEuMCwgInJhZGl1cyI6IDUsICJzdHJva2UiOiB0cnVlLCAid2VpZ2h0IjogM30KICAgICAgICAgICAgKS5hZGRUbyhtYXBfYWUyYzYyNTk4ZDc1NDhjOGI2NTE0ODVjMzliMjRkYjMpOwogICAgICAgIAogICAgCiAgICAgICAgdmFyIHBvcHVwX2UyMGE3YjcxODYxOTRlNWNhZDJkMTE5MDBkMzUyNzVlID0gTC5wb3B1cCh7Im1heFdpZHRoIjogIjEwMCUifSk7CgogICAgICAgIAogICAgICAgICAgICB2YXIgaHRtbF85MzMzMmJkNzE5ZDM0NGY5YmUxNjI1YzMzYTg2NzAxNCA9ICQoYDxkaXYgaWQ9Imh0bWxfOTMzMzJiZDcxOWQzNDRmOWJlMTYyNWMzM2E4NjcwMTQiIHN0eWxlPSJ3aWR0aDogMTAwLjAlOyBoZWlnaHQ6IDEwMC4wJTsiPiBDbHVzdGVyIDA8L2Rpdj5gKVswXTsKICAgICAgICAgICAgcG9wdXBfZTIwYTdiNzE4NjE5NGU1Y2FkMmQxMTkwMGQzNTI3NWUuc2V0Q29udGVudChodG1sXzkzMzMyYmQ3MTlkMzQ0ZjliZTE2MjVjMzNhODY3MDE0KTsKICAgICAgICAKCiAgICAgICAgY2lyY2xlX21hcmtlcl8yMThkYTdhM2M5MWU0NjY1YWUzOWE4ODIwZWU3MTc0Ni5iaW5kUG9wdXAocG9wdXBfZTIwYTdiNzE4NjE5NGU1Y2FkMmQxMTkwMGQzNTI3NWUpCiAgICAgICAgOwoKICAgICAgICAKICAgIAogICAgCiAgICAgICAgICAgIHZhciBjaXJjbGVfbWFya2VyXzZiZTU2YzE5NjUwZDQwNjNhMDczYzMzNGY5MjIzOGQ5ID0gTC5jaXJjbGVNYXJrZXIoCiAgICAgICAgICAgICAgICBbNDMuNzI4MDIwNSwgLTc5LjM4ODc5MDFdLAogICAgICAgICAgICAgICAgeyJidWJibGluZ01vdXNlRXZlbnRzIjogdHJ1ZSwgImNvbG9yIjogIiMzMzg4ZmYiLCAiZGFzaEFycmF5IjogbnVsbCwgImRhc2hPZmZzZXQiOiBudWxsLCAiZmlsbCI6IHRydWUsICJmaWxsQ29sb3IiOiAiIzgwMDBmZiIsICJmaWxsT3BhY2l0eSI6IDAuNywgImZpbGxSdWxlIjogImV2ZW5vZGQiLCAibGluZUNhcCI6ICJyb3VuZCIsICJsaW5lSm9pbiI6ICJyb3VuZCIsICJvcGFjaXR5IjogMS4wLCAicmFkaXVzIjogNSwgInN0cm9rZSI6IHRydWUsICJ3ZWlnaHQiOiAzfQogICAgICAgICAgICApLmFkZFRvKG1hcF9hZTJjNjI1OThkNzU0OGM4YjY1MTQ4NWMzOWIyNGRiMyk7CiAgICAgICAgCiAgICAKICAgICAgICB2YXIgcG9wdXBfZGQ3NmJjNWNhMmEyNDdjN2JmM2JlN2ZkMmNmYzVkMmUgPSBMLnBvcHVwKHsibWF4V2lkdGgiOiAiMTAwJSJ9KTsKCiAgICAgICAgCiAgICAgICAgICAgIHZhciBodG1sXzI4YWJhNWE0OWExMTQ2ZDM5ZjNhNGU1OGExZmE2NmViID0gJChgPGRpdiBpZD0iaHRtbF8yOGFiYTVhNDlhMTE0NmQzOWYzYTRlNThhMWZhNjZlYiIgc3R5bGU9IndpZHRoOiAxMDAuMCU7IGhlaWdodDogMTAwLjAlOyI+IENsdXN0ZXIgMTwvZGl2PmApWzBdOwogICAgICAgICAgICBwb3B1cF9kZDc2YmM1Y2EyYTI0N2M3YmYzYmU3ZmQyY2ZjNWQyZS5zZXRDb250ZW50KGh0bWxfMjhhYmE1YTQ5YTExNDZkMzlmM2E0ZTU4YTFmYTY2ZWIpOwogICAgICAgIAoKICAgICAgICBjaXJjbGVfbWFya2VyXzZiZTU2YzE5NjUwZDQwNjNhMDczYzMzNGY5MjIzOGQ5LmJpbmRQb3B1cChwb3B1cF9kZDc2YmM1Y2EyYTI0N2M3YmYzYmU3ZmQyY2ZjNWQyZSkKICAgICAgICA7CgogICAgICAgIAogICAgCiAgICAKICAgICAgICAgICAgdmFyIGNpcmNsZV9tYXJrZXJfODFmNjIyODU2YzgxNGVmOWE1ZWIyZmEzYTI5NjhhZDggPSBMLmNpcmNsZU1hcmtlcigKICAgICAgICAgICAgICAgIFs0My43MTE2OTQ4LCAtNzkuNDE2OTM1NTk5OTk5OTldLAogICAgICAgICAgICAgICAgeyJidWJibGluZ01vdXNlRXZlbnRzIjogdHJ1ZSwgImNvbG9yIjogIiMzMzg4ZmYiLCAiZGFzaEFycmF5IjogbnVsbCwgImRhc2hPZmZzZXQiOiBudWxsLCAiZmlsbCI6IHRydWUsICJmaWxsQ29sb3IiOiAiIzgwMDBmZiIsICJmaWxsT3BhY2l0eSI6IDAuNywgImZpbGxSdWxlIjogImV2ZW5vZGQiLCAibGluZUNhcCI6ICJyb3VuZCIsICJsaW5lSm9pbiI6ICJyb3VuZCIsICJvcGFjaXR5IjogMS4wLCAicmFkaXVzIjogNSwgInN0cm9rZSI6IHRydWUsICJ3ZWlnaHQiOiAzfQogICAgICAgICAgICApLmFkZFRvKG1hcF9hZTJjNjI1OThkNzU0OGM4YjY1MTQ4NWMzOWIyNGRiMyk7CiAgICAgICAgCiAgICAKICAgICAgICB2YXIgcG9wdXBfZjdmYzQxYTUwN2RmNDMxYmI3ODA4NzI3Mjg4MGIwM2IgPSBMLnBvcHVwKHsibWF4V2lkdGgiOiAiMTAwJSJ9KTsKCiAgICAgICAgCiAgICAgICAgICAgIHZhciBodG1sX2NkMzQ0ODcxYTE4NTRhOTNiNjAxZWZiNzYyOTU5MzlhID0gJChgPGRpdiBpZD0iaHRtbF9jZDM0NDg3MWExODU0YTkzYjYwMWVmYjc2Mjk1OTM5YSIgc3R5bGU9IndpZHRoOiAxMDAuMCU7IGhlaWdodDogMTAwLjAlOyI+IENsdXN0ZXIgMTwvZGl2PmApWzBdOwogICAgICAgICAgICBwb3B1cF9mN2ZjNDFhNTA3ZGY0MzFiYjc4MDg3MjcyODgwYjAzYi5zZXRDb250ZW50KGh0bWxfY2QzNDQ4NzFhMTg1NGE5M2I2MDFlZmI3NjI5NTkzOWEpOwogICAgICAgIAoKICAgICAgICBjaXJjbGVfbWFya2VyXzgxZjYyMjg1NmM4MTRlZjlhNWViMmZhM2EyOTY4YWQ4LmJpbmRQb3B1cChwb3B1cF9mN2ZjNDFhNTA3ZGY0MzFiYjc4MDg3MjcyODgwYjAzYikKICAgICAgICA7CgogICAgICAgIAogICAgCiAgICAKICAgICAgICAgICAgdmFyIGNpcmNsZV9tYXJrZXJfZWIzOGE1N2FjNTYxNDZmNjkwNzJmMGQ2ZjRmNWY2OTYgPSBMLmNpcmNsZU1hcmtlcigKICAgICAgICAgICAgICAgIFs0My43MTI3NTExLCAtNzkuMzkwMTk3NV0sCiAgICAgICAgICAgICAgICB7ImJ1YmJsaW5nTW91c2VFdmVudHMiOiB0cnVlLCAiY29sb3IiOiAiIzMzODhmZiIsICJkYXNoQXJyYXkiOiBudWxsLCAiZGFzaE9mZnNldCI6IG51bGwsICJmaWxsIjogdHJ1ZSwgImZpbGxDb2xvciI6ICIjODAwMGZmIiwgImZpbGxPcGFjaXR5IjogMC43LCAiZmlsbFJ1bGUiOiAiZXZlbm9kZCIsICJsaW5lQ2FwIjogInJvdW5kIiwgImxpbmVKb2luIjogInJvdW5kIiwgIm9wYWNpdHkiOiAxLjAsICJyYWRpdXMiOiA1LCAic3Ryb2tlIjogdHJ1ZSwgIndlaWdodCI6IDN9CiAgICAgICAgICAgICkuYWRkVG8obWFwX2FlMmM2MjU5OGQ3NTQ4YzhiNjUxNDg1YzM5YjI0ZGIzKTsKICAgICAgICAKICAgIAogICAgICAgIHZhciBwb3B1cF8xYzcyZThkYmZlNjA0Yjc5OTIwNTA4N2E1YzY5YTZiMiA9IEwucG9wdXAoeyJtYXhXaWR0aCI6ICIxMDAlIn0pOwoKICAgICAgICAKICAgICAgICAgICAgdmFyIGh0bWxfYmNkNTJkMmRhNGJhNDRiY2FmYjNmODE2MDg5Y2ZlY2QgPSAkKGA8ZGl2IGlkPSJodG1sX2JjZDUyZDJkYTRiYTQ0YmNhZmIzZjgxNjA4OWNmZWNkIiBzdHlsZT0id2lkdGg6IDEwMC4wJTsgaGVpZ2h0OiAxMDAuMCU7Ij4gQ2x1c3RlciAxPC9kaXY+YClbMF07CiAgICAgICAgICAgIHBvcHVwXzFjNzJlOGRiZmU2MDRiNzk5MjA1MDg3YTVjNjlhNmIyLnNldENvbnRlbnQoaHRtbF9iY2Q1MmQyZGE0YmE0NGJjYWZiM2Y4MTYwODljZmVjZCk7CiAgICAgICAgCgogICAgICAgIGNpcmNsZV9tYXJrZXJfZWIzOGE1N2FjNTYxNDZmNjkwNzJmMGQ2ZjRmNWY2OTYuYmluZFBvcHVwKHBvcHVwXzFjNzJlOGRiZmU2MDRiNzk5MjA1MDg3YTVjNjlhNmIyKQogICAgICAgIDsKCiAgICAgICAgCiAgICAKICAgIAogICAgICAgICAgICB2YXIgY2lyY2xlX21hcmtlcl9jZGY1YzUwNWYwMjA0Yzk5OTQzZDU0MzcxZDhiOTU3OCA9IEwuY2lyY2xlTWFya2VyKAogICAgICAgICAgICAgICAgWzQzLjY5Njk0NzYsIC03OS40MTEzMDcyMDAwMDAwMV0sCiAgICAgICAgICAgICAgICB7ImJ1YmJsaW5nTW91c2VFdmVudHMiOiB0cnVlLCAiY29sb3IiOiAiIzMzODhmZiIsICJkYXNoQXJyYXkiOiBudWxsLCAiZGFzaE9mZnNldCI6IG51bGwsICJmaWxsIjogdHJ1ZSwgImZpbGxDb2xvciI6ICIjODAwMGZmIiwgImZpbGxPcGFjaXR5IjogMC43LCAiZmlsbFJ1bGUiOiAiZXZlbm9kZCIsICJsaW5lQ2FwIjogInJvdW5kIiwgImxpbmVKb2luIjogInJvdW5kIiwgIm9wYWNpdHkiOiAxLjAsICJyYWRpdXMiOiA1LCAic3Ryb2tlIjogdHJ1ZSwgIndlaWdodCI6IDN9CiAgICAgICAgICAgICkuYWRkVG8obWFwX2FlMmM2MjU5OGQ3NTQ4YzhiNjUxNDg1YzM5YjI0ZGIzKTsKICAgICAgICAKICAgIAogICAgICAgIHZhciBwb3B1cF84NjZjYmRlMjkxNjg0YWU4YTU4ZmYyZDhlZTQ0MjY3NSA9IEwucG9wdXAoeyJtYXhXaWR0aCI6ICIxMDAlIn0pOwoKICAgICAgICAKICAgICAgICAgICAgdmFyIGh0bWxfYTRlYjMxZjkyOTdmNDdiZDgzMjZlYTE5Y2VlNDYzZjkgPSAkKGA8ZGl2IGlkPSJodG1sX2E0ZWIzMWY5Mjk3ZjQ3YmQ4MzI2ZWExOWNlZTQ2M2Y5IiBzdHlsZT0id2lkdGg6IDEwMC4wJTsgaGVpZ2h0OiAxMDAuMCU7Ij4gQ2x1c3RlciAxPC9kaXY+YClbMF07CiAgICAgICAgICAgIHBvcHVwXzg2NmNiZGUyOTE2ODRhZThhNThmZjJkOGVlNDQyNjc1LnNldENvbnRlbnQoaHRtbF9hNGViMzFmOTI5N2Y0N2JkODMyNmVhMTljZWU0NjNmOSk7CiAgICAgICAgCgogICAgICAgIGNpcmNsZV9tYXJrZXJfY2RmNWM1MDVmMDIwNGM5OTk0M2Q1NDM3MWQ4Yjk1NzguYmluZFBvcHVwKHBvcHVwXzg2NmNiZGUyOTE2ODRhZThhNThmZjJkOGVlNDQyNjc1KQogICAgICAgIDsKCiAgICAgICAgCiAgICAKICAgIAogICAgICAgICAgICB2YXIgY2lyY2xlX21hcmtlcl9jN2YyZjhjNjI5MzE0MmE0OWYzZmIxMTAyNzM2NWEzMiA9IEwuY2lyY2xlTWFya2VyKAogICAgICAgICAgICAgICAgWzQzLjY2MTYwODMsIC03OS40NjQ3NjMyOTk5OTk5OV0sCiAgICAgICAgICAgICAgICB7ImJ1YmJsaW5nTW91c2VFdmVudHMiOiB0cnVlLCAiY29sb3IiOiAiIzMzODhmZiIsICJkYXNoQXJyYXkiOiBudWxsLCAiZGFzaE9mZnNldCI6IG51bGwsICJmaWxsIjogdHJ1ZSwgImZpbGxDb2xvciI6ICIjNGRmM2NlIiwgImZpbGxPcGFjaXR5IjogMC43LCAiZmlsbFJ1bGUiOiAiZXZlbm9kZCIsICJsaW5lQ2FwIjogInJvdW5kIiwgImxpbmVKb2luIjogInJvdW5kIiwgIm9wYWNpdHkiOiAxLjAsICJyYWRpdXMiOiA1LCAic3Ryb2tlIjogdHJ1ZSwgIndlaWdodCI6IDN9CiAgICAgICAgICAgICkuYWRkVG8obWFwX2FlMmM2MjU5OGQ3NTQ4YzhiNjUxNDg1YzM5YjI0ZGIzKTsKICAgICAgICAKICAgIAogICAgICAgIHZhciBwb3B1cF9lNTQyMTg5NjEwM2Q0OGNiYjY3ZDI4MDZmZmM4NGQyYiA9IEwucG9wdXAoeyJtYXhXaWR0aCI6ICIxMDAlIn0pOwoKICAgICAgICAKICAgICAgICAgICAgdmFyIGh0bWxfNmEyM2RmYjJlNDViNDg4NDlkMmJlNjQ2NTczZWVkODAgPSAkKGA8ZGl2IGlkPSJodG1sXzZhMjNkZmIyZTQ1YjQ4ODQ5ZDJiZTY0NjU3M2VlZDgwIiBzdHlsZT0id2lkdGg6IDEwMC4wJTsgaGVpZ2h0OiAxMDAuMCU7Ij4gQ2x1c3RlciAzPC9kaXY+YClbMF07CiAgICAgICAgICAgIHBvcHVwX2U1NDIxODk2MTAzZDQ4Y2JiNjdkMjgwNmZmYzg0ZDJiLnNldENvbnRlbnQoaHRtbF82YTIzZGZiMmU0NWI0ODg0OWQyYmU2NDY1NzNlZWQ4MCk7CiAgICAgICAgCgogICAgICAgIGNpcmNsZV9tYXJrZXJfYzdmMmY4YzYyOTMxNDJhNDlmM2ZiMTEwMjczNjVhMzIuYmluZFBvcHVwKHBvcHVwX2U1NDIxODk2MTAzZDQ4Y2JiNjdkMjgwNmZmYzg0ZDJiKQogICAgICAgIDsKCiAgICAgICAgCiAgICAKICAgIAogICAgICAgICAgICB2YXIgY2lyY2xlX21hcmtlcl8wMGViMTc0YjI5ZWU0ODgxYTQ3N2ZiODcxNDY3MmZhMiA9IEwuY2lyY2xlTWFya2VyKAogICAgICAgICAgICAgICAgWzQzLjcxNTM4MzQsIC03OS40MDU2Nzg0MDAwMDAwMV0sCiAgICAgICAgICAgICAgICB7ImJ1YmJsaW5nTW91c2VFdmVudHMiOiB0cnVlLCAiY29sb3IiOiAiIzMzODhmZiIsICJkYXNoQXJyYXkiOiBudWxsLCAiZGFzaE9mZnNldCI6IG51bGwsICJmaWxsIjogdHJ1ZSwgImZpbGxDb2xvciI6ICIjODAwMGZmIiwgImZpbGxPcGFjaXR5IjogMC43LCAiZmlsbFJ1bGUiOiAiZXZlbm9kZCIsICJsaW5lQ2FwIjogInJvdW5kIiwgImxpbmVKb2luIjogInJvdW5kIiwgIm9wYWNpdHkiOiAxLjAsICJyYWRpdXMiOiA1LCAic3Ryb2tlIjogdHJ1ZSwgIndlaWdodCI6IDN9CiAgICAgICAgICAgICkuYWRkVG8obWFwX2FlMmM2MjU5OGQ3NTQ4YzhiNjUxNDg1YzM5YjI0ZGIzKTsKICAgICAgICAKICAgIAogICAgICAgIHZhciBwb3B1cF8zMjRjNTZlNTAwZTU0YzEyYmNiYTg3YjM1YTNkMzQ3YyA9IEwucG9wdXAoeyJtYXhXaWR0aCI6ICIxMDAlIn0pOwoKICAgICAgICAKICAgICAgICAgICAgdmFyIGh0bWxfMDZmOTJiNGZlNjdkNDkzM2JlMzY2NmZmNTMyZjJhZGMgPSAkKGA8ZGl2IGlkPSJodG1sXzA2ZjkyYjRmZTY3ZDQ5MzNiZTM2NjZmZjUzMmYyYWRjIiBzdHlsZT0id2lkdGg6IDEwMC4wJTsgaGVpZ2h0OiAxMDAuMCU7Ij4gQ2x1c3RlciAxPC9kaXY+YClbMF07CiAgICAgICAgICAgIHBvcHVwXzMyNGM1NmU1MDBlNTRjMTJiY2JhODdiMzVhM2QzNDdjLnNldENvbnRlbnQoaHRtbF8wNmY5MmI0ZmU2N2Q0OTMzYmUzNjY2ZmY1MzJmMmFkYyk7CiAgICAgICAgCgogICAgICAgIGNpcmNsZV9tYXJrZXJfMDBlYjE3NGIyOWVlNDg4MWE0NzdmYjg3MTQ2NzJmYTIuYmluZFBvcHVwKHBvcHVwXzMyNGM1NmU1MDBlNTRjMTJiY2JhODdiMzVhM2QzNDdjKQogICAgICAgIDsKCiAgICAgICAgCiAgICAKICAgIAogICAgICAgICAgICB2YXIgY2lyY2xlX21hcmtlcl8zNzY1MmNhZmJjMzU0ZTg1YmUwM2RkMWU1ZDA1YjliOCA9IEwuY2lyY2xlTWFya2VyKAogICAgICAgICAgICAgICAgWzQzLjY3MjcwOTcsIC03OS40MDU2Nzg0MDAwMDAwMV0sCiAgICAgICAgICAgICAgICB7ImJ1YmJsaW5nTW91c2VFdmVudHMiOiB0cnVlLCAiY29sb3IiOiAiIzMzODhmZiIsICJkYXNoQXJyYXkiOiBudWxsLCAiZGFzaE9mZnNldCI6IG51bGwsICJmaWxsIjogdHJ1ZSwgImZpbGxDb2xvciI6ICIjZmY5NjRmIiwgImZpbGxPcGFjaXR5IjogMC43LCAiZmlsbFJ1bGUiOiAiZXZlbm9kZCIsICJsaW5lQ2FwIjogInJvdW5kIiwgImxpbmVKb2luIjogInJvdW5kIiwgIm9wYWNpdHkiOiAxLjAsICJyYWRpdXMiOiA1LCAic3Ryb2tlIjogdHJ1ZSwgIndlaWdodCI6IDN9CiAgICAgICAgICAgICkuYWRkVG8obWFwX2FlMmM2MjU5OGQ3NTQ4YzhiNjUxNDg1YzM5YjI0ZGIzKTsKICAgICAgICAKICAgIAogICAgICAgIHZhciBwb3B1cF8zZjJlODliYmE2MjU0NzUyYmJjMjNkNWEyMWVjMTI2MiA9IEwucG9wdXAoeyJtYXhXaWR0aCI6ICIxMDAlIn0pOwoKICAgICAgICAKICAgICAgICAgICAgdmFyIGh0bWxfYmQxODRkYjMyZDkwNGRhNzg2YjhmNDlhMjcwOTE5N2MgPSAkKGA8ZGl2IGlkPSJodG1sX2JkMTg0ZGIzMmQ5MDRkYTc4NmI4ZjQ5YTI3MDkxOTdjIiBzdHlsZT0id2lkdGg6IDEwMC4wJTsgaGVpZ2h0OiAxMDAuMCU7Ij4gQ2x1c3RlciA1PC9kaXY+YClbMF07CiAgICAgICAgICAgIHBvcHVwXzNmMmU4OWJiYTYyNTQ3NTJiYmMyM2Q1YTIxZWMxMjYyLnNldENvbnRlbnQoaHRtbF9iZDE4NGRiMzJkOTA0ZGE3ODZiOGY0OWEyNzA5MTk3Yyk7CiAgICAgICAgCgogICAgICAgIGNpcmNsZV9tYXJrZXJfMzc2NTJjYWZiYzM1NGU4NWJlMDNkZDFlNWQwNWI5YjguYmluZFBvcHVwKHBvcHVwXzNmMmU4OWJiYTYyNTQ3NTJiYmMyM2Q1YTIxZWMxMjYyKQogICAgICAgIDsKCiAgICAgICAgCiAgICAKICAgIAogICAgICAgICAgICB2YXIgY2lyY2xlX21hcmtlcl84YmM1ZWZjYmQ3YzY0MzA4YmIyYmMzZjRkYWJmOWU2MiA9IEwuY2lyY2xlTWFya2VyKAogICAgICAgICAgICAgICAgWzQzLjY0ODk1OTcsIC03OS40NTYzMjVdLAogICAgICAgICAgICAgICAgeyJidWJibGluZ01vdXNlRXZlbnRzIjogdHJ1ZSwgImNvbG9yIjogIiMzMzg4ZmYiLCAiZGFzaEFycmF5IjogbnVsbCwgImRhc2hPZmZzZXQiOiBudWxsLCAiZmlsbCI6IHRydWUsICJmaWxsQ29sb3IiOiAiIzRkZjNjZSIsICJmaWxsT3BhY2l0eSI6IDAuNywgImZpbGxSdWxlIjogImV2ZW5vZGQiLCAibGluZUNhcCI6ICJyb3VuZCIsICJsaW5lSm9pbiI6ICJyb3VuZCIsICJvcGFjaXR5IjogMS4wLCAicmFkaXVzIjogNSwgInN0cm9rZSI6IHRydWUsICJ3ZWlnaHQiOiAzfQogICAgICAgICAgICApLmFkZFRvKG1hcF9hZTJjNjI1OThkNzU0OGM4YjY1MTQ4NWMzOWIyNGRiMyk7CiAgICAgICAgCiAgICAKICAgICAgICB2YXIgcG9wdXBfMWMyMDQ1MTc0YjAyNGQ1OWFjZTBkZWNiMjJiYzMyMzEgPSBMLnBvcHVwKHsibWF4V2lkdGgiOiAiMTAwJSJ9KTsKCiAgICAgICAgCiAgICAgICAgICAgIHZhciBodG1sXzdjNGMyYmM0MzA4NDQ1OTY4ZTZiMmEyZWFhZDg1NjFmID0gJChgPGRpdiBpZD0iaHRtbF83YzRjMmJjNDMwODQ0NTk2OGU2YjJhMmVhYWQ4NTYxZiIgc3R5bGU9IndpZHRoOiAxMDAuMCU7IGhlaWdodDogMTAwLjAlOyI+IENsdXN0ZXIgMzwvZGl2PmApWzBdOwogICAgICAgICAgICBwb3B1cF8xYzIwNDUxNzRiMDI0ZDU5YWNlMGRlY2IyMmJjMzIzMS5zZXRDb250ZW50KGh0bWxfN2M0YzJiYzQzMDg0NDU5NjhlNmIyYTJlYWFkODU2MWYpOwogICAgICAgIAoKICAgICAgICBjaXJjbGVfbWFya2VyXzhiYzVlZmNiZDdjNjQzMDhiYjJiYzNmNGRhYmY5ZTYyLmJpbmRQb3B1cChwb3B1cF8xYzIwNDUxNzRiMDI0ZDU5YWNlMGRlY2IyMmJjMzIzMSkKICAgICAgICA7CgogICAgICAgIAogICAgCiAgICAKICAgICAgICAgICAgdmFyIGNpcmNsZV9tYXJrZXJfZjEyM2QxNjYwZjVlNDFmYTkwYzNjYjU2NzhmZTMyMTggPSBMLmNpcmNsZU1hcmtlcigKICAgICAgICAgICAgICAgIFs0My43MDQzMjQ0LCAtNzkuMzg4NzkwMV0sCiAgICAgICAgICAgICAgICB7ImJ1YmJsaW5nTW91c2VFdmVudHMiOiB0cnVlLCAiY29sb3IiOiAiIzMzODhmZiIsICJkYXNoQXJyYXkiOiBudWxsLCAiZGFzaE9mZnNldCI6IG51bGwsICJmaWxsIjogdHJ1ZSwgImZpbGxDb2xvciI6ICIjODAwMGZmIiwgImZpbGxPcGFjaXR5IjogMC43LCAiZmlsbFJ1bGUiOiAiZXZlbm9kZCIsICJsaW5lQ2FwIjogInJvdW5kIiwgImxpbmVKb2luIjogInJvdW5kIiwgIm9wYWNpdHkiOiAxLjAsICJyYWRpdXMiOiA1LCAic3Ryb2tlIjogdHJ1ZSwgIndlaWdodCI6IDN9CiAgICAgICAgICAgICkuYWRkVG8obWFwX2FlMmM2MjU5OGQ3NTQ4YzhiNjUxNDg1YzM5YjI0ZGIzKTsKICAgICAgICAKICAgIAogICAgICAgIHZhciBwb3B1cF9lNjM5Y2EyZDlmZDE0NThiYmJmYzFkNjQ2ZTM3MDhjNSA9IEwucG9wdXAoeyJtYXhXaWR0aCI6ICIxMDAlIn0pOwoKICAgICAgICAKICAgICAgICAgICAgdmFyIGh0bWxfZTMzMzliOTRkOGNiNDA1OTk3YjBmNTM3ZjBlZjA0Y2MgPSAkKGA8ZGl2IGlkPSJodG1sX2UzMzM5Yjk0ZDhjYjQwNTk5N2IwZjUzN2YwZWYwNGNjIiBzdHlsZT0id2lkdGg6IDEwMC4wJTsgaGVpZ2h0OiAxMDAuMCU7Ij4gQ2x1c3RlciAxPC9kaXY+YClbMF07CiAgICAgICAgICAgIHBvcHVwX2U2MzljYTJkOWZkMTQ1OGJiYmZjMWQ2NDZlMzcwOGM1LnNldENvbnRlbnQoaHRtbF9lMzMzOWI5NGQ4Y2I0MDU5OTdiMGY1MzdmMGVmMDRjYyk7CiAgICAgICAgCgogICAgICAgIGNpcmNsZV9tYXJrZXJfZjEyM2QxNjYwZjVlNDFmYTkwYzNjYjU2NzhmZTMyMTguYmluZFBvcHVwKHBvcHVwX2U2MzljYTJkOWZkMTQ1OGJiYmZjMWQ2NDZlMzcwOGM1KQogICAgICAgIDsKCiAgICAgICAgCiAgICAKICAgIAogICAgICAgICAgICB2YXIgY2lyY2xlX21hcmtlcl8xYmRmOTlmNTIwMWI0NmQ2YTk5YTExMjk5OGM2NjZiNSA9IEwuY2lyY2xlTWFya2VyKAogICAgICAgICAgICAgICAgWzQzLjY2MjY5NTYsIC03OS40MDAwNDkzXSwKICAgICAgICAgICAgICAgIHsiYnViYmxpbmdNb3VzZUV2ZW50cyI6IHRydWUsICJjb2xvciI6ICIjMzM4OGZmIiwgImRhc2hBcnJheSI6IG51bGwsICJkYXNoT2Zmc2V0IjogbnVsbCwgImZpbGwiOiB0cnVlLCAiZmlsbENvbG9yIjogIiMxOTk2ZjMiLCAiZmlsbE9wYWNpdHkiOiAwLjcsICJmaWxsUnVsZSI6ICJldmVub2RkIiwgImxpbmVDYXAiOiAicm91bmQiLCAibGluZUpvaW4iOiAicm91bmQiLCAib3BhY2l0eSI6IDEuMCwgInJhZGl1cyI6IDUsICJzdHJva2UiOiB0cnVlLCAid2VpZ2h0IjogM30KICAgICAgICAgICAgKS5hZGRUbyhtYXBfYWUyYzYyNTk4ZDc1NDhjOGI2NTE0ODVjMzliMjRkYjMpOwogICAgICAgIAogICAgCiAgICAgICAgdmFyIHBvcHVwX2RiMTRlZWE1ZDUyYTQ5YjdhMTk3NTFiNGFlOGU5YWZjID0gTC5wb3B1cCh7Im1heFdpZHRoIjogIjEwMCUifSk7CgogICAgICAgIAogICAgICAgICAgICB2YXIgaHRtbF82Y2U1N2E4NWE1OGM0ZGFiOTM1NDI3ZjAzMDk0YzMxYSA9ICQoYDxkaXYgaWQ9Imh0bWxfNmNlNTdhODVhNThjNGRhYjkzNTQyN2YwMzA5NGMzMWEiIHN0eWxlPSJ3aWR0aDogMTAwLjAlOyBoZWlnaHQ6IDEwMC4wJTsiPiBDbHVzdGVyIDI8L2Rpdj5gKVswXTsKICAgICAgICAgICAgcG9wdXBfZGIxNGVlYTVkNTJhNDliN2ExOTc1MWI0YWU4ZTlhZmMuc2V0Q29udGVudChodG1sXzZjZTU3YTg1YTU4YzRkYWI5MzU0MjdmMDMwOTRjMzFhKTsKICAgICAgICAKCiAgICAgICAgY2lyY2xlX21hcmtlcl8xYmRmOTlmNTIwMWI0NmQ2YTk5YTExMjk5OGM2NjZiNS5iaW5kUG9wdXAocG9wdXBfZGIxNGVlYTVkNTJhNDliN2ExOTc1MWI0YWU4ZTlhZmMpCiAgICAgICAgOwoKICAgICAgICAKICAgIAogICAgCiAgICAgICAgICAgIHZhciBjaXJjbGVfbWFya2VyXzE2ZWUzMmY0OGUxYjQ1YmJhNmM2MTQ1YTRkM2U3OGVlID0gTC5jaXJjbGVNYXJrZXIoCiAgICAgICAgICAgICAgICBbNDMuNjUxNTcwNiwgLTc5LjQ4NDQ0OTldLAogICAgICAgICAgICAgICAgeyJidWJibGluZ01vdXNlRXZlbnRzIjogdHJ1ZSwgImNvbG9yIjogIiMzMzg4ZmYiLCAiZGFzaEFycmF5IjogbnVsbCwgImRhc2hPZmZzZXQiOiBudWxsLCAiZmlsbCI6IHRydWUsICJmaWxsQ29sb3IiOiAiIzRkZjNjZSIsICJmaWxsT3BhY2l0eSI6IDAuNywgImZpbGxSdWxlIjogImV2ZW5vZGQiLCAibGluZUNhcCI6ICJyb3VuZCIsICJsaW5lSm9pbiI6ICJyb3VuZCIsICJvcGFjaXR5IjogMS4wLCAicmFkaXVzIjogNSwgInN0cm9rZSI6IHRydWUsICJ3ZWlnaHQiOiAzfQogICAgICAgICAgICApLmFkZFRvKG1hcF9hZTJjNjI1OThkNzU0OGM4YjY1MTQ4NWMzOWIyNGRiMyk7CiAgICAgICAgCiAgICAKICAgICAgICB2YXIgcG9wdXBfYjAwYzdkZjdlZTMyNDBhMjhiNDJjNDQ1NGY4ZGQzYzkgPSBMLnBvcHVwKHsibWF4V2lkdGgiOiAiMTAwJSJ9KTsKCiAgICAgICAgCiAgICAgICAgICAgIHZhciBodG1sX2EyYjBmZmI3YzQyMjQzYzRiOTBkMmVlNzY0YjExMmVhID0gJChgPGRpdiBpZD0iaHRtbF9hMmIwZmZiN2M0MjI0M2M0YjkwZDJlZTc2NGIxMTJlYSIgc3R5bGU9IndpZHRoOiAxMDAuMCU7IGhlaWdodDogMTAwLjAlOyI+IENsdXN0ZXIgMzwvZGl2PmApWzBdOwogICAgICAgICAgICBwb3B1cF9iMDBjN2RmN2VlMzI0MGEyOGI0MmM0NDU0ZjhkZDNjOS5zZXRDb250ZW50KGh0bWxfYTJiMGZmYjdjNDIyNDNjNGI5MGQyZWU3NjRiMTEyZWEpOwogICAgICAgIAoKICAgICAgICBjaXJjbGVfbWFya2VyXzE2ZWUzMmY0OGUxYjQ1YmJhNmM2MTQ1YTRkM2U3OGVlLmJpbmRQb3B1cChwb3B1cF9iMDBjN2RmN2VlMzI0MGEyOGI0MmM0NDU0ZjhkZDNjOSkKICAgICAgICA7CgogICAgICAgIAogICAgCiAgICAKICAgICAgICAgICAgdmFyIGNpcmNsZV9tYXJrZXJfMDA5NmZlOTRlZWQ1NGU5OWJjZGY3NTljZGZiMmIyZTcgPSBMLmNpcmNsZU1hcmtlcigKICAgICAgICAgICAgICAgIFs0My42ODk1NzQzLCAtNzkuMzgzMTU5OTAwMDAwMDFdLAogICAgICAgICAgICAgICAgeyJidWJibGluZ01vdXNlRXZlbnRzIjogdHJ1ZSwgImNvbG9yIjogIiMzMzg4ZmYiLCAiZGFzaEFycmF5IjogbnVsbCwgImRhc2hPZmZzZXQiOiBudWxsLCAiZmlsbCI6IHRydWUsICJmaWxsQ29sb3IiOiAiIzgwMDBmZiIsICJmaWxsT3BhY2l0eSI6IDAuNywgImZpbGxSdWxlIjogImV2ZW5vZGQiLCAibGluZUNhcCI6ICJyb3VuZCIsICJsaW5lSm9pbiI6ICJyb3VuZCIsICJvcGFjaXR5IjogMS4wLCAicmFkaXVzIjogNSwgInN0cm9rZSI6IHRydWUsICJ3ZWlnaHQiOiAzfQogICAgICAgICAgICApLmFkZFRvKG1hcF9hZTJjNjI1OThkNzU0OGM4YjY1MTQ4NWMzOWIyNGRiMyk7CiAgICAgICAgCiAgICAKICAgICAgICB2YXIgcG9wdXBfMGFkZTQ1YWZlYmQxNDg0MzgzYWE0OGZlODllN2Y4ZTQgPSBMLnBvcHVwKHsibWF4V2lkdGgiOiAiMTAwJSJ9KTsKCiAgICAgICAgCiAgICAgICAgICAgIHZhciBodG1sX2ZjNjM5OGUwNzYwMTQzYWQ5ODYwZGFjZDZiYWZlNTBiID0gJChgPGRpdiBpZD0iaHRtbF9mYzYzOThlMDc2MDE0M2FkOTg2MGRhY2Q2YmFmZTUwYiIgc3R5bGU9IndpZHRoOiAxMDAuMCU7IGhlaWdodDogMTAwLjAlOyI+IENsdXN0ZXIgMTwvZGl2PmApWzBdOwogICAgICAgICAgICBwb3B1cF8wYWRlNDVhZmViZDE0ODQzODNhYTQ4ZmU4OWU3ZjhlNC5zZXRDb250ZW50KGh0bWxfZmM2Mzk4ZTA3NjAxNDNhZDk4NjBkYWNkNmJhZmU1MGIpOwogICAgICAgIAoKICAgICAgICBjaXJjbGVfbWFya2VyXzAwOTZmZTk0ZWVkNTRlOTliY2RmNzU5Y2RmYjJiMmU3LmJpbmRQb3B1cChwb3B1cF8wYWRlNDVhZmViZDE0ODQzODNhYTQ4ZmU4OWU3ZjhlNCkKICAgICAgICA7CgogICAgICAgIAogICAgCiAgICAKICAgICAgICAgICAgdmFyIGNpcmNsZV9tYXJrZXJfZjRiMTllYWUxOGY5NDlmMThmMmY1MzJkYjBkZmQxZjYgPSBMLmNpcmNsZU1hcmtlcigKICAgICAgICAgICAgICAgIFs0My42NTMyMDU3LCAtNzkuNDAwMDQ5M10sCiAgICAgICAgICAgICAgICB7ImJ1YmJsaW5nTW91c2VFdmVudHMiOiB0cnVlLCAiY29sb3IiOiAiIzMzODhmZiIsICJkYXNoQXJyYXkiOiBudWxsLCAiZGFzaE9mZnNldCI6IG51bGwsICJmaWxsIjogdHJ1ZSwgImZpbGxDb2xvciI6ICIjMTk5NmYzIiwgImZpbGxPcGFjaXR5IjogMC43LCAiZmlsbFJ1bGUiOiAiZXZlbm9kZCIsICJsaW5lQ2FwIjogInJvdW5kIiwgImxpbmVKb2luIjogInJvdW5kIiwgIm9wYWNpdHkiOiAxLjAsICJyYWRpdXMiOiA1LCAic3Ryb2tlIjogdHJ1ZSwgIndlaWdodCI6IDN9CiAgICAgICAgICAgICkuYWRkVG8obWFwX2FlMmM2MjU5OGQ3NTQ4YzhiNjUxNDg1YzM5YjI0ZGIzKTsKICAgICAgICAKICAgIAogICAgICAgIHZhciBwb3B1cF9iYTAwYThjNWU5MGM0NGIzOGRjNDZhODNjN2U5ZjVhNSA9IEwucG9wdXAoeyJtYXhXaWR0aCI6ICIxMDAlIn0pOwoKICAgICAgICAKICAgICAgICAgICAgdmFyIGh0bWxfN2UwZjgwMDBhNWY5NGY4MzhiZjMyMDkwMDliMWNjYmMgPSAkKGA8ZGl2IGlkPSJodG1sXzdlMGY4MDAwYTVmOTRmODM4YmYzMjA5MDA5YjFjY2JjIiBzdHlsZT0id2lkdGg6IDEwMC4wJTsgaGVpZ2h0OiAxMDAuMCU7Ij4gQ2x1c3RlciAyPC9kaXY+YClbMF07CiAgICAgICAgICAgIHBvcHVwX2JhMDBhOGM1ZTkwYzQ0YjM4ZGM0NmE4M2M3ZTlmNWE1LnNldENvbnRlbnQoaHRtbF83ZTBmODAwMGE1Zjk0ZjgzOGJmMzIwOTAwOWIxY2NiYyk7CiAgICAgICAgCgogICAgICAgIGNpcmNsZV9tYXJrZXJfZjRiMTllYWUxOGY5NDlmMThmMmY1MzJkYjBkZmQxZjYuYmluZFBvcHVwKHBvcHVwX2JhMDBhOGM1ZTkwYzQ0YjM4ZGM0NmE4M2M3ZTlmNWE1KQogICAgICAgIDsKCiAgICAgICAgCiAgICAKICAgIAogICAgICAgICAgICB2YXIgY2lyY2xlX21hcmtlcl8wYTFiY2VlOTVhYjE0ZDVmOWVkNmI0NTY5MTRlYWM1NSA9IEwuY2lyY2xlTWFya2VyKAogICAgICAgICAgICAgICAgWzQzLjY4NjQxMjI5OTk5OTk5LCAtNzkuNDAwMDQ5M10sCiAgICAgICAgICAgICAgICB7ImJ1YmJsaW5nTW91c2VFdmVudHMiOiB0cnVlLCAiY29sb3IiOiAiIzMzODhmZiIsICJkYXNoQXJyYXkiOiBudWxsLCAiZGFzaE9mZnNldCI6IG51bGwsICJmaWxsIjogdHJ1ZSwgImZpbGxDb2xvciI6ICIjODAwMGZmIiwgImZpbGxPcGFjaXR5IjogMC43LCAiZmlsbFJ1bGUiOiAiZXZlbm9kZCIsICJsaW5lQ2FwIjogInJvdW5kIiwgImxpbmVKb2luIjogInJvdW5kIiwgIm9wYWNpdHkiOiAxLjAsICJyYWRpdXMiOiA1LCAic3Ryb2tlIjogdHJ1ZSwgIndlaWdodCI6IDN9CiAgICAgICAgICAgICkuYWRkVG8obWFwX2FlMmM2MjU5OGQ3NTQ4YzhiNjUxNDg1YzM5YjI0ZGIzKTsKICAgICAgICAKICAgIAogICAgICAgIHZhciBwb3B1cF8yNmFkMzRmYWFiZmY0NTE3ODI3NGVlOTE5ZmZiNGY3MSA9IEwucG9wdXAoeyJtYXhXaWR0aCI6ICIxMDAlIn0pOwoKICAgICAgICAKICAgICAgICAgICAgdmFyIGh0bWxfNDlmMjVhZmQxZWU0NDc2NDljYTExNzU3OWViYTQwMzIgPSAkKGA8ZGl2IGlkPSJodG1sXzQ5ZjI1YWZkMWVlNDQ3NjQ5Y2ExMTc1NzllYmE0MDMyIiBzdHlsZT0id2lkdGg6IDEwMC4wJTsgaGVpZ2h0OiAxMDAuMCU7Ij4gQ2x1c3RlciAxPC9kaXY+YClbMF07CiAgICAgICAgICAgIHBvcHVwXzI2YWQzNGZhYWJmZjQ1MTc4Mjc0ZWU5MTlmZmI0ZjcxLnNldENvbnRlbnQoaHRtbF80OWYyNWFmZDFlZTQ0NzY0OWNhMTE3NTc5ZWJhNDAzMik7CiAgICAgICAgCgogICAgICAgIGNpcmNsZV9tYXJrZXJfMGExYmNlZTk1YWIxNGQ1ZjllZDZiNDU2OTE0ZWFjNTUuYmluZFBvcHVwKHBvcHVwXzI2YWQzNGZhYWJmZjQ1MTc4Mjc0ZWU5MTlmZmI0ZjcxKQogICAgICAgIDsKCiAgICAgICAgCiAgICAKICAgIAogICAgICAgICAgICB2YXIgY2lyY2xlX21hcmtlcl82Mjk2YzE3ZTZlNWI0MTMyYjgxY2YzOWVhYzRjYjBjOSA9IEwuY2lyY2xlTWFya2VyKAogICAgICAgICAgICAgICAgWzQzLjYyODk0NjcsIC03OS4zOTQ0MTk5XSwKICAgICAgICAgICAgICAgIHsiYnViYmxpbmdNb3VzZUV2ZW50cyI6IHRydWUsICJjb2xvciI6ICIjMzM4OGZmIiwgImRhc2hBcnJheSI6IG51bGwsICJkYXNoT2Zmc2V0IjogbnVsbCwgImZpbGwiOiB0cnVlLCAiZmlsbENvbG9yIjogIiMxOTk2ZjMiLCAiZmlsbE9wYWNpdHkiOiAwLjcsICJmaWxsUnVsZSI6ICJldmVub2RkIiwgImxpbmVDYXAiOiAicm91bmQiLCAibGluZUpvaW4iOiAicm91bmQiLCAib3BhY2l0eSI6IDEuMCwgInJhZGl1cyI6IDUsICJzdHJva2UiOiB0cnVlLCAid2VpZ2h0IjogM30KICAgICAgICAgICAgKS5hZGRUbyhtYXBfYWUyYzYyNTk4ZDc1NDhjOGI2NTE0ODVjMzliMjRkYjMpOwogICAgICAgIAogICAgCiAgICAgICAgdmFyIHBvcHVwX2U4MjYxNDAyYWU3NTRjMzE5MTc0ZTZjYTVlN2M3YTQwID0gTC5wb3B1cCh7Im1heFdpZHRoIjogIjEwMCUifSk7CgogICAgICAgIAogICAgICAgICAgICB2YXIgaHRtbF9kMTI2ODdlODZjNDM0OWMyYjRiYjY3OTIyZmM3ODkwOCA9ICQoYDxkaXYgaWQ9Imh0bWxfZDEyNjg3ZTg2YzQzNDljMmI0YmI2NzkyMmZjNzg5MDgiIHN0eWxlPSJ3aWR0aDogMTAwLjAlOyBoZWlnaHQ6IDEwMC4wJTsiPiBDbHVzdGVyIDI8L2Rpdj5gKVswXTsKICAgICAgICAgICAgcG9wdXBfZTgyNjE0MDJhZTc1NGMzMTkxNzRlNmNhNWU3YzdhNDAuc2V0Q29udGVudChodG1sX2QxMjY4N2U4NmM0MzQ5YzJiNGJiNjc5MjJmYzc4OTA4KTsKICAgICAgICAKCiAgICAgICAgY2lyY2xlX21hcmtlcl82Mjk2YzE3ZTZlNWI0MTMyYjgxY2YzOWVhYzRjYjBjOS5iaW5kUG9wdXAocG9wdXBfZTgyNjE0MDJhZTc1NGMzMTkxNzRlNmNhNWU3YzdhNDApCiAgICAgICAgOwoKICAgICAgICAKICAgIAogICAgCiAgICAgICAgICAgIHZhciBjaXJjbGVfbWFya2VyXzE5NGUwZTM1OWZjYjRiNWRhMmM0OTA4MWNmYTllNjIxID0gTC5jaXJjbGVNYXJrZXIoCiAgICAgICAgICAgICAgICBbNDMuNjc5NTYyNiwgLTc5LjM3NzUyOTQwMDAwMDAxXSwKICAgICAgICAgICAgICAgIHsiYnViYmxpbmdNb3VzZUV2ZW50cyI6IHRydWUsICJjb2xvciI6ICIjMzM4OGZmIiwgImRhc2hBcnJheSI6IG51bGwsICJkYXNoT2Zmc2V0IjogbnVsbCwgImZpbGwiOiB0cnVlLCAiZmlsbENvbG9yIjogIiNmZjAwMDAiLCAiZmlsbE9wYWNpdHkiOiAwLjcsICJmaWxsUnVsZSI6ICJldmVub2RkIiwgImxpbmVDYXAiOiAicm91bmQiLCAibGluZUpvaW4iOiAicm91bmQiLCAib3BhY2l0eSI6IDEuMCwgInJhZGl1cyI6IDUsICJzdHJva2UiOiB0cnVlLCAid2VpZ2h0IjogM30KICAgICAgICAgICAgKS5hZGRUbyhtYXBfYWUyYzYyNTk4ZDc1NDhjOGI2NTE0ODVjMzliMjRkYjMpOwogICAgICAgIAogICAgCiAgICAgICAgdmFyIHBvcHVwX2MxNDI0N2ZjNGNkZTRkOGViZGU1MGY1MmU5NWEyN2NkID0gTC5wb3B1cCh7Im1heFdpZHRoIjogIjEwMCUifSk7CgogICAgICAgIAogICAgICAgICAgICB2YXIgaHRtbF9jNWEzYTgzZWM0ZTY0MmQxOTYxYzFlNzZhMTliOTViOCA9ICQoYDxkaXYgaWQ9Imh0bWxfYzVhM2E4M2VjNGU2NDJkMTk2MWMxZTc2YTE5Yjk1YjgiIHN0eWxlPSJ3aWR0aDogMTAwLjAlOyBoZWlnaHQ6IDEwMC4wJTsiPiBDbHVzdGVyIDA8L2Rpdj5gKVswXTsKICAgICAgICAgICAgcG9wdXBfYzE0MjQ3ZmM0Y2RlNGQ4ZWJkZTUwZjUyZTk1YTI3Y2Quc2V0Q29udGVudChodG1sX2M1YTNhODNlYzRlNjQyZDE5NjFjMWU3NmExOWI5NWI4KTsKICAgICAgICAKCiAgICAgICAgY2lyY2xlX21hcmtlcl8xOTRlMGUzNTlmY2I0YjVkYTJjNDkwODFjZmE5ZTYyMS5iaW5kUG9wdXAocG9wdXBfYzE0MjQ3ZmM0Y2RlNGQ4ZWJkZTUwZjUyZTk1YTI3Y2QpCiAgICAgICAgOwoKICAgICAgICAKICAgIAogICAgCiAgICAgICAgICAgIHZhciBjaXJjbGVfbWFya2VyXzU4YmRkNDhhZGY2MjRkYTZiNjg0MGI5MGI4N2NiYmU2ID0gTC5jaXJjbGVNYXJrZXIoCiAgICAgICAgICAgICAgICBbNDMuNjQ2NDM1MiwgLTc5LjM3NDg0NTk5OTk5OTk5XSwKICAgICAgICAgICAgICAgIHsiYnViYmxpbmdNb3VzZUV2ZW50cyI6IHRydWUsICJjb2xvciI6ICIjMzM4OGZmIiwgImRhc2hBcnJheSI6IG51bGwsICJkYXNoT2Zmc2V0IjogbnVsbCwgImZpbGwiOiB0cnVlLCAiZmlsbENvbG9yIjogIiMxOTk2ZjMiLCAiZmlsbE9wYWNpdHkiOiAwLjcsICJmaWxsUnVsZSI6ICJldmVub2RkIiwgImxpbmVDYXAiOiAicm91bmQiLCAibGluZUpvaW4iOiAicm91bmQiLCAib3BhY2l0eSI6IDEuMCwgInJhZGl1cyI6IDUsICJzdHJva2UiOiB0cnVlLCAid2VpZ2h0IjogM30KICAgICAgICAgICAgKS5hZGRUbyhtYXBfYWUyYzYyNTk4ZDc1NDhjOGI2NTE0ODVjMzliMjRkYjMpOwogICAgICAgIAogICAgCiAgICAgICAgdmFyIHBvcHVwX2M5NTc4YTUwZWUyZDRjZjc5ODU3OGY4NDI0MzcwNjM3ID0gTC5wb3B1cCh7Im1heFdpZHRoIjogIjEwMCUifSk7CgogICAgICAgIAogICAgICAgICAgICB2YXIgaHRtbF8xNjE0YzZiMTZlYzM0OWM4ODc5MjllN2ZlYjgwZThjMCA9ICQoYDxkaXYgaWQ9Imh0bWxfMTYxNGM2YjE2ZWMzNDljODg3OTI5ZTdmZWI4MGU4YzAiIHN0eWxlPSJ3aWR0aDogMTAwLjAlOyBoZWlnaHQ6IDEwMC4wJTsiPiBDbHVzdGVyIDI8L2Rpdj5gKVswXTsKICAgICAgICAgICAgcG9wdXBfYzk1NzhhNTBlZTJkNGNmNzk4NTc4Zjg0MjQzNzA2Mzcuc2V0Q29udGVudChodG1sXzE2MTRjNmIxNmVjMzQ5Yzg4NzkyOWU3ZmViODBlOGMwKTsKICAgICAgICAKCiAgICAgICAgY2lyY2xlX21hcmtlcl81OGJkZDQ4YWRmNjI0ZGE2YjY4NDBiOTBiODdjYmJlNi5iaW5kUG9wdXAocG9wdXBfYzk1NzhhNTBlZTJkNGNmNzk4NTc4Zjg0MjQzNzA2MzcpCiAgICAgICAgOwoKICAgICAgICAKICAgIAogICAgCiAgICAgICAgICAgIHZhciBjaXJjbGVfbWFya2VyXzEwNWE2ZDFhOGI3NjRmNTU4ZjVjMDNiOTRiZGU3MmRiID0gTC5jaXJjbGVNYXJrZXIoCiAgICAgICAgICAgICAgICBbNDMuNjY3OTY3LCAtNzkuMzY3Njc1M10sCiAgICAgICAgICAgICAgICB7ImJ1YmJsaW5nTW91c2VFdmVudHMiOiB0cnVlLCAiY29sb3IiOiAiIzMzODhmZiIsICJkYXNoQXJyYXkiOiBudWxsLCAiZGFzaE9mZnNldCI6IG51bGwsICJmaWxsIjogdHJ1ZSwgImZpbGxDb2xvciI6ICIjZmYwMDAwIiwgImZpbGxPcGFjaXR5IjogMC43LCAiZmlsbFJ1bGUiOiAiZXZlbm9kZCIsICJsaW5lQ2FwIjogInJvdW5kIiwgImxpbmVKb2luIjogInJvdW5kIiwgIm9wYWNpdHkiOiAxLjAsICJyYWRpdXMiOiA1LCAic3Ryb2tlIjogdHJ1ZSwgIndlaWdodCI6IDN9CiAgICAgICAgICAgICkuYWRkVG8obWFwX2FlMmM2MjU5OGQ3NTQ4YzhiNjUxNDg1YzM5YjI0ZGIzKTsKICAgICAgICAKICAgIAogICAgICAgIHZhciBwb3B1cF85ZDM3YjhjN2EzZmM0MWIzYTVmNDc5ZDZjNTkwMmY5ZiA9IEwucG9wdXAoeyJtYXhXaWR0aCI6ICIxMDAlIn0pOwoKICAgICAgICAKICAgICAgICAgICAgdmFyIGh0bWxfNWI4YmEzNGJiOWZkNDE4Yzk0MmYyNmM5NjhjYzIzZmQgPSAkKGA8ZGl2IGlkPSJodG1sXzViOGJhMzRiYjlmZDQxOGM5NDJmMjZjOTY4Y2MyM2ZkIiBzdHlsZT0id2lkdGg6IDEwMC4wJTsgaGVpZ2h0OiAxMDAuMCU7Ij4gQ2x1c3RlciAwPC9kaXY+YClbMF07CiAgICAgICAgICAgIHBvcHVwXzlkMzdiOGM3YTNmYzQxYjNhNWY0NzlkNmM1OTAyZjlmLnNldENvbnRlbnQoaHRtbF81YjhiYTM0YmI5ZmQ0MThjOTQyZjI2Yzk2OGNjMjNmZCk7CiAgICAgICAgCgogICAgICAgIGNpcmNsZV9tYXJrZXJfMTA1YTZkMWE4Yjc2NGY1NThmNWMwM2I5NGJkZTcyZGIuYmluZFBvcHVwKHBvcHVwXzlkMzdiOGM3YTNmYzQxYjNhNWY0NzlkNmM1OTAyZjlmKQogICAgICAgIDsKCiAgICAgICAgCiAgICAKICAgIAogICAgICAgICAgICB2YXIgY2lyY2xlX21hcmtlcl80OGRmMmY3MjI1ODE0NjgwYmU1Y2E1ODFkZTAzMTE5OSA9IEwuY2lyY2xlTWFya2VyKAogICAgICAgICAgICAgICAgWzQzLjY0ODQyOTIsIC03OS4zODIyODAyXSwKICAgICAgICAgICAgICAgIHsiYnViYmxpbmdNb3VzZUV2ZW50cyI6IHRydWUsICJjb2xvciI6ICIjMzM4OGZmIiwgImRhc2hBcnJheSI6IG51bGwsICJkYXNoT2Zmc2V0IjogbnVsbCwgImZpbGwiOiB0cnVlLCAiZmlsbENvbG9yIjogIiMxOTk2ZjMiLCAiZmlsbE9wYWNpdHkiOiAwLjcsICJmaWxsUnVsZSI6ICJldmVub2RkIiwgImxpbmVDYXAiOiAicm91bmQiLCAibGluZUpvaW4iOiAicm91bmQiLCAib3BhY2l0eSI6IDEuMCwgInJhZGl1cyI6IDUsICJzdHJva2UiOiB0cnVlLCAid2VpZ2h0IjogM30KICAgICAgICAgICAgKS5hZGRUbyhtYXBfYWUyYzYyNTk4ZDc1NDhjOGI2NTE0ODVjMzliMjRkYjMpOwogICAgICAgIAogICAgCiAgICAgICAgdmFyIHBvcHVwX2M1ZDRlYmZjZTMyYTRkNjRiZmI4MzYwMGQwY2I2ZjU5ID0gTC5wb3B1cCh7Im1heFdpZHRoIjogIjEwMCUifSk7CgogICAgICAgIAogICAgICAgICAgICB2YXIgaHRtbF8zMDkxMTljODIwYjY0YmZhOWRkZjcwNjc0YjRlZWQzMSA9ICQoYDxkaXYgaWQ9Imh0bWxfMzA5MTE5YzgyMGI2NGJmYTlkZGY3MDY3NGI0ZWVkMzEiIHN0eWxlPSJ3aWR0aDogMTAwLjAlOyBoZWlnaHQ6IDEwMC4wJTsiPiBDbHVzdGVyIDI8L2Rpdj5gKVswXTsKICAgICAgICAgICAgcG9wdXBfYzVkNGViZmNlMzJhNGQ2NGJmYjgzNjAwZDBjYjZmNTkuc2V0Q29udGVudChodG1sXzMwOTExOWM4MjBiNjRiZmE5ZGRmNzA2NzRiNGVlZDMxKTsKICAgICAgICAKCiAgICAgICAgY2lyY2xlX21hcmtlcl80OGRmMmY3MjI1ODE0NjgwYmU1Y2E1ODFkZTAzMTE5OS5iaW5kUG9wdXAocG9wdXBfYzVkNGViZmNlMzJhNGQ2NGJmYjgzNjAwZDBjYjZmNTkpCiAgICAgICAgOwoKICAgICAgICAKICAgIAogICAgCiAgICAgICAgICAgIHZhciBjaXJjbGVfbWFya2VyXzdmZGQ5N2VkNDdkMjQyYjA5YTY3ZWJiNDY2Mjg3MTU1ID0gTC5jaXJjbGVNYXJrZXIoCiAgICAgICAgICAgICAgICBbNDMuNjY1ODU5OSwgLTc5LjM4MzE1OTkwMDAwMDAxXSwKICAgICAgICAgICAgICAgIHsiYnViYmxpbmdNb3VzZUV2ZW50cyI6IHRydWUsICJjb2xvciI6ICIjMzM4OGZmIiwgImRhc2hBcnJheSI6IG51bGwsICJkYXNoT2Zmc2V0IjogbnVsbCwgImZpbGwiOiB0cnVlLCAiZmlsbENvbG9yIjogIiMxOTk2ZjMiLCAiZmlsbE9wYWNpdHkiOiAwLjcsICJmaWxsUnVsZSI6ICJldmVub2RkIiwgImxpbmVDYXAiOiAicm91bmQiLCAibGluZUpvaW4iOiAicm91bmQiLCAib3BhY2l0eSI6IDEuMCwgInJhZGl1cyI6IDUsICJzdHJva2UiOiB0cnVlLCAid2VpZ2h0IjogM30KICAgICAgICAgICAgKS5hZGRUbyhtYXBfYWUyYzYyNTk4ZDc1NDhjOGI2NTE0ODVjMzliMjRkYjMpOwogICAgICAgIAogICAgCiAgICAgICAgdmFyIHBvcHVwX2Q0MjFmMmZlZThkMjRiOTQ4ZTJiYjM3ZTFlN2NhNjhiID0gTC5wb3B1cCh7Im1heFdpZHRoIjogIjEwMCUifSk7CgogICAgICAgIAogICAgICAgICAgICB2YXIgaHRtbF9mYzAxMjY3ZjY4MmE0ZmFjYmU0YWY0MzNlNmZjMWE1NiA9ICQoYDxkaXYgaWQ9Imh0bWxfZmMwMTI2N2Y2ODJhNGZhY2JlNGFmNDMzZTZmYzFhNTYiIHN0eWxlPSJ3aWR0aDogMTAwLjAlOyBoZWlnaHQ6IDEwMC4wJTsiPiBDbHVzdGVyIDI8L2Rpdj5gKVswXTsKICAgICAgICAgICAgcG9wdXBfZDQyMWYyZmVlOGQyNGI5NDhlMmJiMzdlMWU3Y2E2OGIuc2V0Q29udGVudChodG1sX2ZjMDEyNjdmNjgyYTRmYWNiZTRhZjQzM2U2ZmMxYTU2KTsKICAgICAgICAKCiAgICAgICAgY2lyY2xlX21hcmtlcl83ZmRkOTdlZDQ3ZDI0MmIwOWE2N2ViYjQ2NjI4NzE1NS5iaW5kUG9wdXAocG9wdXBfZDQyMWYyZmVlOGQyNGI5NDhlMmJiMzdlMWU3Y2E2OGIpCiAgICAgICAgOwoKICAgICAgICAKICAgIAogICAgCiAgICAgICAgICAgIHZhciBjaXJjbGVfbWFya2VyXzFmM2NlOWJhZGJhNzRlZWI4NjlmNTlmMjk2YmU1ZGU1ID0gTC5jaXJjbGVNYXJrZXIoCiAgICAgICAgICAgICAgICBbNDMuNjYyNzQzOSwgLTc5LjMyMTU1OF0sCiAgICAgICAgICAgICAgICB7ImJ1YmJsaW5nTW91c2VFdmVudHMiOiB0cnVlLCAiY29sb3IiOiAiIzMzODhmZiIsICJkYXNoQXJyYXkiOiBudWxsLCAiZGFzaE9mZnNldCI6IG51bGwsICJmaWxsIjogdHJ1ZSwgImZpbGxDb2xvciI6ICIjYjJmMzk2IiwgImZpbGxPcGFjaXR5IjogMC43LCAiZmlsbFJ1bGUiOiAiZXZlbm9kZCIsICJsaW5lQ2FwIjogInJvdW5kIiwgImxpbmVKb2luIjogInJvdW5kIiwgIm9wYWNpdHkiOiAxLjAsICJyYWRpdXMiOiA1LCAic3Ryb2tlIjogdHJ1ZSwgIndlaWdodCI6IDN9CiAgICAgICAgICAgICkuYWRkVG8obWFwX2FlMmM2MjU5OGQ3NTQ4YzhiNjUxNDg1YzM5YjI0ZGIzKTsKICAgICAgICAKICAgIAogICAgICAgIHZhciBwb3B1cF8zNzgxYWJhNGRlMzU0ZTE4YjVkOWVlNTYxM2JiMzA3ZCA9IEwucG9wdXAoeyJtYXhXaWR0aCI6ICIxMDAlIn0pOwoKICAgICAgICAKICAgICAgICAgICAgdmFyIGh0bWxfZjdmNGFjYTA2Mjc4NDEyZGEwMGVkOWFhOWM3N2U5MTkgPSAkKGA8ZGl2IGlkPSJodG1sX2Y3ZjRhY2EwNjI3ODQxMmRhMDBlZDlhYTljNzdlOTE5IiBzdHlsZT0id2lkdGg6IDEwMC4wJTsgaGVpZ2h0OiAxMDAuMCU7Ij4gQ2x1c3RlciA0PC9kaXY+YClbMF07CiAgICAgICAgICAgIHBvcHVwXzM3ODFhYmE0ZGUzNTRlMThiNWQ5ZWU1NjEzYmIzMDdkLnNldENvbnRlbnQoaHRtbF9mN2Y0YWNhMDYyNzg0MTJkYTAwZWQ5YWE5Yzc3ZTkxOSk7CiAgICAgICAgCgogICAgICAgIGNpcmNsZV9tYXJrZXJfMWYzY2U5YmFkYmE3NGVlYjg2OWY1OWYyOTZiZTVkZTUuYmluZFBvcHVwKHBvcHVwXzM3ODFhYmE0ZGUzNTRlMThiNWQ5ZWU1NjEzYmIzMDdkKQogICAgICAgIDsKCiAgICAgICAgCiAgICAKPC9zY3JpcHQ+ onload=\"this.contentDocument.open();this.contentDocument.write(atob(this.getAttribute('data-html')));this.contentDocument.close();\" allowfullscreen webkitallowfullscreen mozallowfullscreen></iframe></div></div>"
      ],
      "text/plain": [
       "<folium.folium.Map at 0x2a8d8ca9c08>"
      ]
     },
     "execution_count": 29,
     "metadata": {},
     "output_type": "execute_result"
    }
   ],
   "source": [
    "map_clust = folium.Map(location=[43.651070,-79.347015],zoom_start=10)\n",
    "\n",
    "\n",
    "x = np.arange(k)\n",
    "ys = [i + x + (i*x)**2 for i in range(k)]\n",
    "colors_array = cm.rainbow(np.linspace(0, 1, len(ys)))\n",
    "rainbow = [colors.rgb2hex(i) for i in colors_array]\n",
    "\n",
    "\n",
    "markers_colors = []\n",
    "for lat, lon, neighbourhood, cluster in zip(toronto_data['Latitude'], toronto_data['Longitude'], toronto_data['Neighbourhood'], toronto_data['Cluster Labels']):\n",
    "    label = folium.Popup(' Cluster ' + str(cluster), parse_html=True)\n",
    "    folium.CircleMarker(\n",
    "        [lat, lon],\n",
    "        radius=5,\n",
    "        popup=label,\n",
    "        fill=True,\n",
    "        fill_color=rainbow[cluster-1],\n",
    "        fill_opacity=0.7).add_to(map_clust)\n",
    "       \n",
    "map_clust"
   ]
  },
  {
   "cell_type": "code",
   "execution_count": null,
   "metadata": {},
   "outputs": [],
   "source": []
  }
 ],
 "metadata": {
  "kernelspec": {
   "display_name": "Python 3",
   "language": "python",
   "name": "python3"
  },
  "language_info": {
   "codemirror_mode": {
    "name": "ipython",
    "version": 3
   },
   "file_extension": ".py",
   "mimetype": "text/x-python",
   "name": "python",
   "nbconvert_exporter": "python",
   "pygments_lexer": "ipython3",
   "version": "3.7.6"
  }
 },
 "nbformat": 4,
 "nbformat_minor": 4
}
